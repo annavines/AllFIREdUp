{
 "cells": [
  {
   "cell_type": "code",
   "execution_count": 1,
   "metadata": {},
   "outputs": [],
   "source": [
    "import pandas as pd\n",
    "import numpy as np\n",
    "import glob\n",
    "\n",
    "#Gensim\n",
    "import gensim\n",
    "import gensim.corpora as corpora\n",
    "from gensim.utils import simple_preprocess\n",
    "from gensim.models import CoherenceModel\n",
    "\n",
    "#spacy\n",
    "import spacy\n",
    "from nltk.corpus import stopwords\n",
    "\n",
    "#vis\n",
    "import pyLDAvis\n",
    "import pyLDAvis.gensim_models as gensimvis\n",
    "\n",
    "import warnings\n",
    "warnings.filterwarnings(\"ignore\", category=DeprecationWarning)"
   ]
  },
  {
   "cell_type": "code",
   "execution_count": 2,
   "metadata": {},
   "outputs": [],
   "source": [
    "stop_words = stopwords.words(\"english\")"
   ]
  },
  {
   "cell_type": "markdown",
   "metadata": {},
   "source": [
    "### Cleaning data ready for preprocessing"
   ]
  },
  {
   "cell_type": "code",
   "execution_count": 3,
   "metadata": {},
   "outputs": [],
   "source": [
    "data = pd.read_csv('data/FIREyFemmes_subs.csv')\n",
    "text = data['selftext']\n",
    "text.drop_duplicates(inplace = True)\n",
    "text.dropna()\n",
    "text = text[text != '[removed]']\n",
    "#works"
   ]
  },
  {
   "cell_type": "code",
   "execution_count": 4,
   "metadata": {},
   "outputs": [
    {
     "data": {
      "text/plain": [
       "0    -Made a throwaway account for this post-\\n \\nP...\n",
       "1    Hello, happy Monday :)  How is the start of yo...\n",
       "3    I mostly want to vent, but I'd love to hear fr...\n",
       "4    First, I’m not sure is wealthy is even the cor...\n",
       "5    Hello!      \\n\\nAny recent triumphs you're pro...\n",
       "Name: selftext, dtype: object"
      ]
     },
     "execution_count": 4,
     "metadata": {},
     "output_type": "execute_result"
    }
   ],
   "source": [
    "text.head()"
   ]
  },
  {
   "cell_type": "code",
   "execution_count": 17,
   "metadata": {},
   "outputs": [
    {
     "data": {
      "text/plain": [
       "0     -Made a throwaway account for this post-\\n \\nP...\n",
       "1     Hello, happy Monday :)  How is the start of yo...\n",
       "3     I mostly want to vent, but I'd love to hear fr...\n",
       "4     First, I’m not sure is wealthy is even the cor...\n",
       "5     Hello!      \\n\\nAny recent triumphs you're pro...\n",
       "6     Am struggling with work exhaustion due to mult...\n",
       "7     Just got a new job with a 115k base salary and...\n",
       "8     A little bit of context. I'm 34F and make a de...\n",
       "9     Hi all. \\n\\nI started mildly churning credit c...\n",
       "10    We're getting through the week!      \\n\\nAny w...\n",
       "12    I work at a super lax fully remote company wit...\n",
       "13    Hello!      \\n\\nHow is your day going? What ar...\n",
       "14    Happy Friday!      \\n\\nWhat sorts of things ar...\n",
       "15    Hey! I’m conducting research on the impact of ...\n",
       "16     Hope your weekend is going well!      \\n\\nAny...\n",
       "18    Hello! I moved to a new city about a year ago ...\n",
       "20    TL;DR: I need help deciding on keeping an inhe...\n",
       "21    Hello!      \\n\\nWhat are your goals for this m...\n",
       "23    I generally see 7% to 8% as a safe assumption ...\n",
       "24     \\n\\nHello all.\\n\\nI am finally ready to start...\n",
       "25    Hi! Does anyone have experience investing with...\n",
       "26    Hello All, \\n\\nI understand that there are two...\n",
       "27    I have been super hands-off with my investment...\n",
       "29    So I posted about this in the personal finance...\n",
       "31    I grew up with a bit of a poverty mindset, so ...\n",
       "33    Hi all, I could use some career perspective.  ...\n",
       "34    Hello all. \\n\\nSo, in my quest to be financial...\n",
       "35    I've followed the fat/fire groups for a while ...\n",
       "37    In the next 3 months, I will be negotiating fo...\n",
       "38    I’m 33, single, living with mom. To preface. \\...\n",
       "40    For those of you who have successfully loaned ...\n",
       "41    I thrive in planning and being busy. One thing...\n",
       "43    I think I may be suffering from budgeting burn...\n",
       "44    I've been at a company for many years now and ...\n",
       "45    Hello! I'm very passionate about personal fina...\n",
       "46    Hi folks and femmes! There was recently a thre...\n",
       "49    Wondering if anyone has recommendations/learni...\n",
       "51    This thread is a place to introduce yourself, ...\n",
       "52                                                  NaN\n",
       "55    The company literally just terminated our bran...\n",
       "56    Hey ladies! \\n\\nI've been struggling recently ...\n",
       "58    Just had a great interview for a $95k job and ...\n",
       "59    Hi all! I posted this on r/AskWomenOver30 and ...\n",
       "61    Hi All!\\n\\nI would love some tips on how to be...\n",
       "62    A Youtuber I like made a video today about her...\n",
       "63    idk where to start or what to look into. i don...\n",
       "65    I grew up thinking I’d do a passion job that d...\n",
       "Name: selftext, dtype: object"
      ]
     },
     "execution_count": 17,
     "metadata": {},
     "output_type": "execute_result"
    }
   ],
   "source": [
    "text"
   ]
  },
  {
   "cell_type": "code",
   "execution_count": 25,
   "metadata": {},
   "outputs": [],
   "source": [
    "# remove punctuation \n",
    "# remove numbers\n",
    "# remove things like /n\n",
    "\n",
    "\n",
    "# work out if it will work as rows in df or if i need to combine it into one big thing"
   ]
  },
  {
   "cell_type": "code",
   "execution_count": 89,
   "metadata": {},
   "outputs": [],
   "source": [
    "def initial_clean(text):\n",
    "    commonwords = ['Hey', 'Hi', 'Hello', 'hey', 'hi', 'hello', 'I', 'So', 'Im', 'Ive']   \n",
    "    text = text.str.replace('[^\\w\\s]','')\n",
    "    text = text.str.replace('[~^0-9]','')\n",
    "    text = text.str.replace('\\n','')\n",
    "    text = text.str.replace(\"|\".join(commonwords),'')\n",
    "    \n",
    "    return text\n",
    " \n",
    "#doesnt work lmao "
   ]
  },
  {
   "cell_type": "code",
   "execution_count": 28,
   "metadata": {},
   "outputs": [],
   "source": [
    "text2 = text.str.replace('[^\\w\\s]','') #need to redo so that it  doesn't remove $ "
   ]
  },
  {
   "cell_type": "code",
   "execution_count": 29,
   "metadata": {},
   "outputs": [
    {
     "data": {
      "text/plain": [
       "0     Made a throwaway account for this post\\n \\nPol...\n",
       "1     Hello happy Monday   How is the start of your ...\n",
       "3     I mostly want to vent but Id love to hear from...\n",
       "4     First Im not sure is wealthy is even the corre...\n",
       "5     Hello      \\n\\nAny recent triumphs youre proud...\n",
       "6     Am struggling with work exhaustion due to mult...\n",
       "7     Just got a new job with a 115k base salary and...\n",
       "8     A little bit of context Im 34F and make a dece...\n",
       "9     Hi all \\n\\nI started mildly churning credit ca...\n",
       "10    Were getting through the week      \\n\\nAny wor...\n",
       "12    I work at a super lax fully remote company wit...\n",
       "13    Hello      \\n\\nHow is your day going What are ...\n",
       "14    Happy Friday      \\n\\nWhat sorts of things are...\n",
       "15    Hey Im conducting research on the impact of co...\n",
       "16     Hope your weekend is going well      \\n\\nAny ...\n",
       "18    Hello I moved to a new city about a year ago a...\n",
       "20    TLDR I need help deciding on keeping an inheri...\n",
       "21    Hello      \\n\\nWhat are your goals for this mo...\n",
       "23    I generally see 7 to 8 as a safe assumption fo...\n",
       "24     \\n\\nHello all\\n\\nI am finally ready to start ...\n",
       "25    Hi Does anyone have experience investing with ...\n",
       "26    Hello All \\n\\nI understand that there are two ...\n",
       "27    I have been super handsoff with my investments...\n",
       "29    So I posted about this in the personal finance...\n",
       "31    I grew up with a bit of a poverty mindset so I...\n",
       "33    Hi all I could use some career perspective  \\n...\n",
       "34    Hello all \\n\\nSo in my quest to be financially...\n",
       "35    Ive followed the fatfire groups for a while an...\n",
       "37    In the next 3 months I will be negotiating for...\n",
       "38    Im 33 single living with mom To preface \\n\\nI ...\n",
       "40    For those of you who have successfully loaned ...\n",
       "41    I thrive in planning and being busy One thing ...\n",
       "43    I think I may be suffering from budgeting burn...\n",
       "44    Ive been at a company for many years now and h...\n",
       "45    Hello Im very passionate about personal financ...\n",
       "46    Hi folks and femmes There was recently a threa...\n",
       "49    Wondering if anyone has recommendationslearnin...\n",
       "51    This thread is a place to introduce yourself s...\n",
       "52                                                  NaN\n",
       "55    The company literally just terminated our bran...\n",
       "56    Hey ladies \\n\\nIve been struggling recently wi...\n",
       "58    Just had a great interview for a 95k job and I...\n",
       "59    Hi all I posted this on rAskWomenOver30 and it...\n",
       "61    Hi All\\n\\nI would love some tips on how to be ...\n",
       "62    A Youtuber I like made a video today about her...\n",
       "63    idk where to start or what to look into i dont...\n",
       "65    I grew up thinking Id do a passion job that do...\n",
       "Name: selftext, dtype: object"
      ]
     },
     "execution_count": 29,
     "metadata": {},
     "output_type": "execute_result"
    }
   ],
   "source": [
    "text2"
   ]
  },
  {
   "cell_type": "code",
   "execution_count": 30,
   "metadata": {},
   "outputs": [],
   "source": [
    "text2 = text2.str.replace('[~^0-9]','')"
   ]
  },
  {
   "cell_type": "code",
   "execution_count": 31,
   "metadata": {},
   "outputs": [],
   "source": [
    "text2 = text2.str.replace('\\n','')\n"
   ]
  },
  {
   "cell_type": "code",
   "execution_count": 32,
   "metadata": {
    "scrolled": true
   },
   "outputs": [
    {
     "data": {
      "text/plain": [
       "0     Made a throwaway account for this post Polymat...\n",
       "1     Hello happy Monday   How is the start of your ...\n",
       "3     I mostly want to vent but Id love to hear from...\n",
       "4     First Im not sure is wealthy is even the corre...\n",
       "5     Hello      Any recent triumphs youre proud of ...\n",
       "6     Am struggling with work exhaustion due to mult...\n",
       "7     Just got a new job with a k base salary and my...\n",
       "8     A little bit of context Im F and make a decent...\n",
       "9     Hi all I started mildly churning credit cards ...\n",
       "10    Were getting through the week      Any workrel...\n",
       "12    I work at a super lax fully remote company wit...\n",
       "13    Hello      How is your day going What are you ...\n",
       "14    Happy Friday      What sorts of things are you...\n",
       "15    Hey Im conducting research on the impact of co...\n",
       "16     Hope your weekend is going well      Any fun ...\n",
       "18    Hello I moved to a new city about a year ago a...\n",
       "20    TLDR I need help deciding on keeping an inheri...\n",
       "21    Hello      What are your goals for this month ...\n",
       "23    I generally see  to  as a safe assumption for ...\n",
       "24     Hello allI am finally ready to start investin...\n",
       "25    Hi Does anyone have experience investing with ...\n",
       "26    Hello All I understand that there are two camp...\n",
       "27    I have been super handsoff with my investments...\n",
       "29    So I posted about this in the personal finance...\n",
       "31    I grew up with a bit of a poverty mindset so I...\n",
       "33    Hi all I could use some career perspective  Im...\n",
       "34    Hello all So in my quest to be financially sav...\n",
       "35    Ive followed the fatfire groups for a while an...\n",
       "37    In the next  months I will be negotiating for ...\n",
       "38    Im  single living with mom To preface I hope t...\n",
       "40    For those of you who have successfully loaned ...\n",
       "41    I thrive in planning and being busy One thing ...\n",
       "43    I think I may be suffering from budgeting burn...\n",
       "44    Ive been at a company for many years now and h...\n",
       "45    Hello Im very passionate about personal financ...\n",
       "46    Hi folks and femmes There was recently a threa...\n",
       "49    Wondering if anyone has recommendationslearnin...\n",
       "51    This thread is a place to introduce yourself s...\n",
       "55    The company literally just terminated our bran...\n",
       "56    Hey ladies Ive been struggling recently with f...\n",
       "58    Just had a great interview for a k job and I h...\n",
       "59    Hi all I posted this on rAskWomenOver and it w...\n",
       "61    Hi AllI would love some tips on how to be a be...\n",
       "62    A Youtuber I like made a video today about her...\n",
       "63    idk where to start or what to look into i dont...\n",
       "65    I grew up thinking Id do a passion job that do...\n",
       "Name: selftext, dtype: object"
      ]
     },
     "execution_count": 32,
     "metadata": {},
     "output_type": "execute_result"
    }
   ],
   "source": [
    "text2.dropna()"
   ]
  },
  {
   "cell_type": "code",
   "execution_count": null,
   "metadata": {},
   "outputs": [],
   "source": []
  },
  {
   "cell_type": "code",
   "execution_count": 32,
   "metadata": {},
   "outputs": [
    {
     "name": "stdout",
     "output_type": "stream",
     "text": [
      "66\n"
     ]
    }
   ],
   "source": [
    "# remove stop words"
   ]
  },
  {
   "cell_type": "code",
   "execution_count": 54,
   "metadata": {},
   "outputs": [
    {
     "data": {
      "text/plain": [
       "0    Made a throwaway account for this post Polymat...\n",
       "1    Hello happy Monday   How is the start of your ...\n",
       "3    I mostly want to vent but Id love to hear from...\n",
       "4    First Im not sure is wealthy is even the corre...\n",
       "5    Hello      Any recent triumphs youre proud of ...\n",
       "Name: selftext, dtype: object"
      ]
     },
     "execution_count": 54,
     "metadata": {},
     "output_type": "execute_result"
    }
   ],
   "source": [
    "text2.head()"
   ]
  },
  {
   "cell_type": "code",
   "execution_count": 49,
   "metadata": {},
   "outputs": [],
   "source": []
  },
  {
   "cell_type": "code",
   "execution_count": 48,
   "metadata": {},
   "outputs": [],
   "source": []
  },
  {
   "cell_type": "code",
   "execution_count": 28,
   "metadata": {},
   "outputs": [],
   "source": []
  },
  {
   "cell_type": "code",
   "execution_count": 36,
   "metadata": {},
   "outputs": [
    {
     "name": "stdout",
     "output_type": "stream",
     "text": [
      "<class 'str'>\n",
      "<class 'str'>\n",
      "<class 'str'>\n",
      "<class 'str'>\n",
      "<class 'str'>\n"
     ]
    }
   ],
   "source": []
  },
  {
   "cell_type": "code",
   "execution_count": 50,
   "metadata": {},
   "outputs": [
    {
     "name": "stdout",
     "output_type": "stream",
     "text": [
      "[]\n"
     ]
    }
   ],
   "source": [
    "print(cleantext)"
   ]
  },
  {
   "cell_type": "code",
   "execution_count": 11,
   "metadata": {
    "scrolled": true
   },
   "outputs": [],
   "source": [
    "def remove_stops(text, stop_words):\n",
    "    text = str(text)\n",
    "\n",
    "    #removes all stop words, including months\n",
    "    words = text.split()\n",
    "    final = []\n",
    "    for word in words:\n",
    "        if word not in stop_words:\n",
    "            final.append(word)\n",
    "            \n",
    "    #eliminates double white spaces\n",
    "    while \"  \" in final:\n",
    "        final = final.replace(\"  \", \" \")\n",
    "    return (final)\n",
    "    print(final)"
   ]
  },
  {
   "cell_type": "code",
   "execution_count": 12,
   "metadata": {},
   "outputs": [],
   "source": [
    "def clean_docs(text, stop_words):\n",
    "    \n",
    "    #empty new list to store the cleaned docs\n",
    "    cleanedtext = []\n",
    "    \n",
    "    #iterate over all docs and cleans them to be a\n",
    "    #single sentence with no unwanted words\n",
    "\n",
    "    clean_doc = remove_stops(text, stop_words)\n",
    "    cleanedtext.append(clean_doc)\n",
    "    \n",
    "    return (cleanedtext)"
   ]
  },
  {
   "cell_type": "code",
   "execution_count": 64,
   "metadata": {},
   "outputs": [],
   "source": [
    "test = clean_docs(text2, stop_words)"
   ]
  },
  {
   "cell_type": "code",
   "execution_count": 68,
   "metadata": {
    "scrolled": true
   },
   "outputs": [
    {
     "name": "stdout",
     "output_type": "stream",
     "text": [
      "['0', 'Made', 'throwaway', 'account', 'post', 'Polymat...', '1', 'Hello', 'happy', 'Monday', 'How', 'start', '...', '3', 'I', 'mostly', 'want', 'vent', 'Id', 'love', 'hear', 'from...', '4', 'First', 'Im', 'sure', 'wealthy', 'even', 'corre...', '5', 'Hello', 'Any', 'recent', 'triumphs', 'youre', 'proud', '...', '6', 'Am', 'struggling', 'work', 'exhaustion', 'due', 'mult...', '7', 'Just', 'got', 'new', 'job', 'k', 'base', 'salary', 'my...', '8', 'A', 'little', 'bit', 'context', 'Im', 'F', 'make', 'decent...', '9', 'Hi', 'I', 'started', 'mildly', 'churning', 'credit', 'cards', '...', '10', 'Were', 'getting', 'week', 'Any', 'workrel...', '12', 'I', 'work', 'super', 'lax', 'fully', 'remote', 'company', 'wit...', '13', 'Hello', 'How', 'day', 'going', 'What', '...', '14', 'Happy', 'Friday', 'What', 'sorts', 'things', 'you...', '15', 'Hey', 'Im', 'conducting', 'research', 'impact', 'co...', '16', 'Hope', 'weekend', 'going', 'well', 'Any', 'fun', '...', '18', 'Hello', 'I', 'moved', 'new', 'city', 'year', 'ago', 'a...', '20', 'TLDR', 'I', 'need', 'help', 'deciding', 'keeping', 'inheri...', '21', 'Hello', 'What', 'goals', 'month', '...', '23', 'I', 'generally', 'see', 'safe', 'assumption', '...', '24', 'Hello', 'allI', 'finally', 'ready', 'start', 'investin...', '25', 'Hi', 'Does', 'anyone', 'experience', 'investing', '...', '26', 'Hello', 'All', 'I', 'understand', 'two', 'camp...', '27', 'I', 'super', 'handsoff', 'investments...', '29', 'So', 'I', 'posted', 'personal', 'finance...', '31', 'I', 'grew', 'bit', 'poverty', 'mindset', 'I...', '33', 'Hi', 'I', 'could', 'use', 'career', 'perspective', 'Im...', '34', 'Hello', 'So', 'quest', 'financially', 'sav...', '35', 'Ive', 'followed', 'fatfire', 'groups', 'an...', '37', 'In', 'next', 'months', 'I', 'negotiating', '...', '38', 'Im', 'single', 'living', 'mom', 'To', 'preface', 'I', 'hope', 't...', '40', 'For', 'successfully', 'loaned', '...', '41', 'I', 'thrive', 'planning', 'busy', 'One', 'thing', '...', '43', 'I', 'think', 'I', 'may', 'suffering', 'budgeting', 'burn...', '44', 'Ive', 'company', 'many', 'years', 'h...', '45', 'Hello', 'Im', 'passionate', 'personal', 'financ...', '46', 'Hi', 'folks', 'femmes', 'There', 'recently', 'threa...', '49', 'Wondering', 'anyone', 'recommendationslearnin...', '51', 'This', 'thread', 'place', 'introduce', 's...', '52', 'NaN', '55', 'The', 'company', 'literally', 'terminated', 'bran...', '56', 'Hey', 'ladies', 'Ive', 'struggling', 'recently', 'f...', '58', 'Just', 'great', 'interview', 'k', 'job', 'I', 'h...', '59', 'Hi', 'I', 'posted', 'rAskWomenOver', 'w...', '61', 'Hi', 'AllI', 'would', 'love', 'tips', 'be...', '62', 'A', 'Youtuber', 'I', 'like', 'made', 'video', 'today', 'her...', '63', 'idk', 'start', 'look', 'dont...', '65', 'I', 'grew', 'thinking', 'Id', 'passion', 'job', 'do...', 'Name:', 'selftext,', 'dtype:', 'object']\n"
     ]
    }
   ],
   "source": [
    "print(test[0])"
   ]
  },
  {
   "cell_type": "code",
   "execution_count": null,
   "metadata": {},
   "outputs": [],
   "source": []
  },
  {
   "cell_type": "code",
   "execution_count": null,
   "metadata": {},
   "outputs": [],
   "source": []
  },
  {
   "cell_type": "code",
   "execution_count": 76,
   "metadata": {},
   "outputs": [],
   "source": [
    "### COME BACK TO LATER TO USE LAMBDA FOR CLEANING \n",
    "\n",
    "# Load the regular expression library\n",
    "#import re\n",
    "# Remove punctuation\n",
    "#text3['selftext'] = text['selftext'].apply(lambda x: re.sub('[,\\.!?]', '', x))\n",
    "# Convert the titles to lowercase\n",
    "#text3['selftext'] = text3['selftext'].map({lambda x: x.lower()})\n",
    "# Print out the first rows of papers\n",
    "#text3.head()"
   ]
  },
  {
   "cell_type": "code",
   "execution_count": null,
   "metadata": {},
   "outputs": [],
   "source": []
  },
  {
   "cell_type": "code",
   "execution_count": 77,
   "metadata": {},
   "outputs": [
    {
     "name": "stdout",
     "output_type": "stream",
     "text": [
      "[(0, 11), (1, 1), (2, 1), (3, 1), (4, 1), (5, 1), (6, 1), (7, 1), (8, 1), (9, 1), (10, 1), (11, 1), (12, 1), (13, 1), (14, 1), (15, 1), (16, 1), (17, 1), (18, 1), (19, 1), (20, 1), (21, 1), (22, 1), (23, 1), (24, 1), (25, 1), (26, 1), (27, 1), (28, 1), (29, 1)]\n"
     ]
    }
   ],
   "source": [
    "\n",
    "id2word = corpora.Dictionary(test)\n",
    "# Create Corpus\n",
    "texts = test\n",
    "# Term Document Frequency\n",
    "corpus = [id2word.doc2bow(text) for text in texts]\n",
    "# View\n",
    "print(corpus[:1][0][:30])"
   ]
  },
  {
   "cell_type": "code",
   "execution_count": 78,
   "metadata": {},
   "outputs": [
    {
     "name": "stdout",
     "output_type": "stream",
     "text": [
      "[(0,\n",
      "  '0.006*\"I\" + 0.005*\"...\" + 0.005*\"Hello\" + 0.005*\"Im\" + 0.004*\"Hi\" + '\n",
      "  '0.004*\"job\" + 0.004*\"start\" + 0.004*\"company\" + 0.004*\"Ive\" + 0.004*\"Id\"'),\n",
      " (1,\n",
      "  '0.008*\"I\" + 0.006*\"...\" + 0.006*\"Hello\" + 0.005*\"Hi\" + 0.005*\"Im\" + '\n",
      "  '0.005*\"company\" + 0.004*\"job\" + 0.004*\"Ive\" + 0.004*\"start\" + 0.004*\"Any\"'),\n",
      " (2,\n",
      "  '0.028*\"I\" + 0.023*\"...\" + 0.016*\"Hello\" + 0.013*\"Hi\" + 0.008*\"Im\" + '\n",
      "  '0.007*\"job\" + 0.007*\"company\" + 0.007*\"start\" + 0.007*\"Any\" + 0.006*\"What\"'),\n",
      " (3,\n",
      "  '0.040*\"I\" + 0.027*\"...\" + 0.019*\"Hello\" + 0.012*\"Im\" + 0.012*\"Hi\" + '\n",
      "  '0.009*\"company\" + 0.008*\"Ive\" + 0.008*\"job\" + 0.007*\"Any\" + 0.007*\"start\"'),\n",
      " (4,\n",
      "  '0.035*\"I\" + 0.018*\"Hello\" + 0.016*\"...\" + 0.013*\"Hi\" + 0.010*\"Im\" + '\n",
      "  '0.007*\"Ive\" + 0.007*\"company\" + 0.006*\"job\" + 0.006*\"What\" + 0.006*\"start\"'),\n",
      " (5,\n",
      "  '0.004*\"I\" + 0.004*\"Hello\" + 0.004*\"...\" + 0.004*\"Hi\" + 0.004*\"Im\" + '\n",
      "  '0.004*\"Ive\" + 0.004*\"company\" + 0.004*\"job\" + 0.004*\"Any\" + 0.004*\"start\"'),\n",
      " (6,\n",
      "  '0.024*\"I\" + 0.017*\"...\" + 0.013*\"Hello\" + 0.011*\"Hi\" + 0.010*\"Im\" + '\n",
      "  '0.007*\"Any\" + 0.006*\"struggling\" + 0.006*\"company\" + 0.006*\"start\" + '\n",
      "  '0.006*\"What\"'),\n",
      " (7,\n",
      "  '0.047*\"I\" + 0.027*\"...\" + 0.026*\"Hello\" + 0.015*\"Hi\" + 0.014*\"Im\" + '\n",
      "  '0.009*\"Any\" + 0.009*\"Ive\" + 0.008*\"job\" + 0.008*\"What\" + 0.008*\"start\"'),\n",
      " (8,\n",
      "  '0.056*\"I\" + 0.024*\"...\" + 0.016*\"Hello\" + 0.014*\"Hi\" + 0.011*\"Im\" + '\n",
      "  '0.009*\"What\" + 0.009*\"start\" + 0.007*\"job\" + 0.007*\"Ive\" + 0.007*\"Any\"'),\n",
      " (9,\n",
      "  '0.028*\"I\" + 0.016*\"Hello\" + 0.015*\"...\" + 0.010*\"Hi\" + 0.007*\"Im\" + '\n",
      "  '0.006*\"Ive\" + 0.006*\"Any\" + 0.006*\"company\" + 0.006*\"start\" + 0.006*\"job\"')]\n"
     ]
    }
   ],
   "source": [
    "from pprint import pprint\n",
    "# number of topics\n",
    "num_topics = 10\n",
    "# Build LDA model\n",
    "lda_model = gensim.models.LdaMulticore(corpus=corpus,\n",
    "                                       id2word=id2word,\n",
    "                                       num_topics=num_topics)\n",
    "# Print the Keyword in the 10 topics\n",
    "pprint(lda_model.print_topics())\n",
    "doc_lda = lda_model[corpus]\n",
    "\n",
    "#works"
   ]
  },
  {
   "cell_type": "code",
   "execution_count": 81,
   "metadata": {},
   "outputs": [],
   "source": []
  },
  {
   "cell_type": "code",
   "execution_count": 87,
   "metadata": {},
   "outputs": [
    {
     "data": {
      "text/html": [
       "\n",
       "<link rel=\"stylesheet\" type=\"text/css\" href=\"https://cdn.jsdelivr.net/gh/bmabey/pyLDAvis@3.3.1/pyLDAvis/js/ldavis.v1.0.0.css\">\n",
       "\n",
       "\n",
       "<div id=\"ldavis_el2210018021369347285235252227\"></div>\n",
       "<script type=\"text/javascript\">\n",
       "\n",
       "var ldavis_el2210018021369347285235252227_data = {\"mdsDat\": {\"x\": [0.01493787848106729, 0.012779651762148694, 0.008118058464885048, 0.0028578817186358345, 0.0021994992946232253, -7.656497353599739e-05, 0.0001898426099994578, -0.010383380653003989, -0.013237896098349387, -0.017384970606470155], \"y\": [-0.0010838354250762411, 0.0017720261705147762, -0.0008034152186914641, 0.00031461524101649113, -0.00033904915725234565, 7.432913520348611e-06, 0.00021669408114842993, -0.000251412246303735, 3.962649437464e-05, 0.00012731714674912677], \"topics\": [1, 2, 3, 4, 5, 6, 7, 8, 9, 10], \"cluster\": [1, 1, 1, 1, 1, 1, 1, 1, 1, 1], \"Freq\": [99.73047623400618, 0.029953525141897194, 0.029949372024939643, 0.02994697386910711, 0.029946880736841774, 0.029946060008753456, 0.029945949414188364, 0.02994501227076837, 0.029945000629235198, 0.029944991898085326]}, \"tinfo\": {\"Term\": [\"I\", \"...\", \"Hello\", \"Hi\", \"Im\", \"Any\", \"Ive\", \"job\", \"What\", \"start\", \"company\", \"A\", \"recently\", \"anyone\", \"personal\", \"h...\", \"Just\", \"Id\", \"super\", \"going\", \"Hey\", \"grew\", \"work\", \"k\", \"posted\", \"bit\", \"new\", \"struggling\", \"So\", \"How\", \"Hello\", \"I\", \"...\", \"Im\", \"Hi\", \"Any\", \"Ive\", \"job\", \"A\", \"What\", \"start\", \"anyone\", \"recently\", \"company\", \"h...\", \"personal\", \"Just\", \"Id\", \"Hey\", \"super\", \"ago\", \"k\", \"work\", \"going\", \"grew\", \"posted\", \"living\", \"wit...\", \"dont...\", \"handsoff\", \"bit\", \"new\", \"So\", \"struggling\", \"How\", \"weekend\", \"love\", \"So\", \"month\", \"proud\", \"conducting\", \"Im...\", \"44\", \"4\", \"21\", \"threa...\", \"started\", \"6\", \"triumphs\", \"terminated\", \"negotiating\", \"Hope\", \"20\", \"could\", \"safe\", \"investing\", \"understand\", \"many\", \"hear\", \"would\", \"getting\", \"How\", \"All\", \"think\", \"3\", \"I\", \"What\", \"struggling\", \"start\", \"Hey\", \"...\", \"Hi\", \"anyone\", \"k\", \"Im\", \"Hello\", \"job\", \"Ive\", \"company\", \"Just\", \"Any\", \"recently\", \"work\", \"Id\", \"posted\", \"h...\", \"super\", \"personal\", \"grew\", \"new\", \"bit\", \"A\", \"33\", \"weekend\", \"Im...\", \"21\", \"would\", \"help\", \"AllI\", \"conducting\", \"vent\", \"Name:\", \"fully\", \"month\", \"safe\", \"started\", \"13\", \"52\", \"1\", \"triumphs\", \"new\", \"18\", \"Were\", \"hope\", \"months\", \"loaned\", \"thinking\", \"Monday\", \"see\", \"44\", \"need\", \"6\", \"company\", \"grew\", \"...\", \"I\", \"love\", \"going\", \"work\", \"Im\", \"Hello\", \"h...\", \"How\", \"Hi\", \"Ive\", \"job\", \"posted\", \"struggling\", \"So\", \"start\", \"What\", \"super\", \"k\", \"Any\", \"Id\", \"personal\", \"bit\", \"A\", \"Hey\", \"Just\", \"anyone\", \"weekend\", \"conducting\", \"month\", \"safe\", \"interview\", \"would\", \"45\", \"started\", \"fully\", \"inheri...\", \"Im...\", \"career\", \"Hope\", \"little\", \"18\", \"sorts\", \"52\", \"21\", \"33\", \"make\", \"6\", \"workrel...\", \"4\", \"context\", \"46\", \"Were\", \"many\", \"base\", \"need\", \"churning\", \"How\", \"I\", \"Hi\", \"bit\", \"Hello\", \"love\", \"be...\", \"Im\", \"company\", \"...\", \"Ive\", \"going\", \"What\", \"start\", \"new\", \"Just\", \"job\", \"recently\", \"k\", \"So\", \"Any\", \"work\", \"personal\", \"super\", \"posted\", \"A\", \"h...\", \"Hey\", \"anyone\", \"grew\", \"struggling\", \"Id\", \"month\", \"Im...\", \"would\", \"Hope\", \"52\", \"fully\", \"weekend\", \"4\", \"33\", \"To\", \"First\", \"many\", \"career\", \"made\", \"21\", \"inheri...\", \"vent\", \"6\", \"safe\", \"investments...\", \"Monday\", \"18\", \"mom\", \"loaned\", \"dtype:\", \"16\", \"from...\", \"tips\", \"triumphs\", \"43\", \"new\", \"How\", \"struggling\", \"...\", \"Hi\", \"bit\", \"I\", \"super\", \"going\", \"Hello\", \"company\", \"job\", \"love\", \"start\", \"Any\", \"What\", \"h...\", \"posted\", \"Im\", \"recently\", \"Just\", \"Id\", \"Ive\", \"work\", \"personal\", \"grew\", \"Hey\", \"So\", \"k\", \"A\", \"weekend\", \"conducting\", \"fully\", \"vent\", \"21\", \"20\", \"55\", \"would\", \"Hope\", \"month\", \"Name:\", \"33\", \"18\", \"4\", \"interview\", \"hear\", \"video\", \"AllI\", \"mildly\", \"tips\", \"proud\", \"38\", \"understand\", \"44\", \"safe\", \"career\", \"6\", \"24\", \"dtype:\", \"see\", \"struggling\", \"from...\", \"46\", \"wealthy\", \"investments...\", \"16\", \"Hi\", \"bit\", \"I\", \"...\", \"How\", \"Im\", \"love\", \"Hello\", \"mindset\", \"posted\", \"new\", \"Id\", \"k\", \"company\", \"Any\", \"start\", \"grew\", \"going\", \"What\", \"work\", \"job\", \"So\", \"super\", \"anyone\", \"recently\", \"Hey\", \"Ive\", \"Just\", \"personal\", \"A\", \"month\", \"weekend\", \"6\", \"conducting\", \"52\", \"Hope\", \"would\", \"a...\", \"triumphs\", \"vent\", \"44\", \"threa...\", \"First\", \"Im...\", \"context\", \"33\", \"45\", \"mildly\", \"34\", \"20\", \"43\", \"4\", \"fully\", \"help\", \"21\", \"7\", \"selftext,\", \"dtype:\", \"To\", \"55\", \"femmes\", \"love\", \"I\", \"mom\", \"Hello\", \"thread\", \"...\", \"Hi\", \"bit\", \"struggling\", \"grew\", \"posted\", \"personal\", \"Id\", \"company\", \"Ive\", \"start\", \"Any\", \"Hey\", \"Im\", \"going\", \"How\", \"job\", \"super\", \"What\", \"A\", \"k\", \"work\", \"So\", \"anyone\", \"Just\", \"h...\", \"new\", \"weekend\", \"month\", \"Im...\", \"conducting\", \"would\", \"21\", \"33\", \"Hope\", \"44\", \"52\", \"6\", \"fully\", \"4\", \"triumphs\", \"safe\", \"proud\", \"vent\", \"threa...\", \"started\", \"20\", \"career\", \"thinking\", \"Name:\", \"understand\", \"context\", \"AllI\", \"loaned\", \"inheri...\", \"To\", \"18\", \"churning\", \"workrel...\", \"little\", \"3\", \"wealthy\", \"a...\", \"planning\", \"s...\", \"groups\", \"I\", \"...\", \"How\", \"successfully\", \"Hello\", \"bit\", \"company\", \"Hi\", \"Im\", \"do...\", \"job\", \"struggling\", \"work\", \"grew\", \"Id\", \"Ive\", \"start\", \"Hey\", \"Just\", \"Any\", \"anyone\", \"personal\", \"going\", \"A\", \"So\", \"recently\", \"What\", \"h...\", \"new\", \"posted\", \"k\", \"super\", \"weekend\", \"month\", \"conducting\", \"Im...\", \"would\", \"21\", \"Hope\", \"33\", \"safe\", \"fully\", \"4\", \"triumphs\", \"6\", \"proud\", \"52\", \"44\", \"vent\", \"started\", \"20\", \"18\", \"Name:\", \"career\", \"threa...\", \"inheri...\", \"understand\", \"AllI\", \"context\", \"many\", \"To\", \"loaned\", \"negotiating\", \"churning\", \"workrel...\", \"There\", \"video\", \"3\", \"I\", \"great\", \"First\", \"...\", \"struggling\", \"Im\", \"job\", \"Hello\", \"Hi\", \"Id\", \"start\", \"work\", \"company\", \"Ive\", \"Hey\", \"How\", \"What\", \"grew\", \"posted\", \"Any\", \"Just\", \"new\", \"A\", \"super\", \"recently\", \"personal\", \"bit\", \"k\", \"h...\", \"going\", \"So\", \"weekend\", \"month\", \"conducting\", \"Im...\", \"would\", \"21\", \"Hope\", \"33\", \"6\", \"safe\", \"4\", \"52\", \"fully\", \"triumphs\", \"44\", \"proud\", \"started\", \"vent\", \"18\", \"threa...\", \"20\", \"understand\", \"Name:\", \"AllI\", \"career\", \"inheri...\", \"To\", \"loaned\", \"context\", \"tips\", \"I\", \"Hello\", \"...\", \"Hi\", \"Im\", \"Ive\", \"company\", \"Any\", \"job\", \"start\", \"A\", \"How\", \"What\", \"super\", \"recently\", \"Id\", \"h...\", \"bit\", \"going\", \"love\", \"Hey\", \"grew\", \"struggling\", \"work\", \"new\", \"posted\", \"personal\", \"Just\", \"anyone\", \"k\"], \"Freq\": [15.0, 9.0, 8.0, 4.0, 4.0, 2.0, 2.0, 2.0, 2.0, 2.0, 2.0, 2.0, 1.0, 1.0, 1.0, 1.0, 1.0, 1.0, 1.0, 1.0, 1.0, 1.0, 1.0, 1.0, 1.0, 1.0, 1.0, 1.0, 1.0, 1.0, 8.683211565779725, 15.711261984287265, 9.108717928863806, 4.6775506608597155, 4.958448538050162, 2.908885849284349, 2.8230838390120856, 2.7397076256288013, 2.125920390992053, 2.6482594439669795, 2.6093798861278645, 1.9736345966222968, 1.9724776804852033, 2.5180289775913245, 1.9150214300734254, 1.924498987279919, 1.8870327507316607, 1.869994025139802, 1.8324894360715596, 1.8439740053923697, 1.3148569177465874, 1.8132757514431974, 1.8167200551733602, 1.8300161624743752, 1.8159177451988593, 1.8076462819575028, 1.2804296544652751, 1.281819778667432, 1.2521747498688645, 1.2403801127957657, 1.7542073033667758, 1.6958047663832994, 1.6288927640284059, 1.6313092820819046, 1.5831297020884794, 0.00037651679620627205, 0.0006875679421011734, 0.0006976635367980087, 0.0003537879016212956, 0.00038760392874576425, 0.00035062703364905484, 0.00034615316473969517, 0.0003669919250715235, 0.0003585827923739401, 0.0003459751082778226, 0.0003662517842811388, 0.00035951443617522887, 0.00035034412197323223, 0.0003543208865958588, 0.00037927928403674123, 0.00037306874338891374, 0.0003377481658689297, 0.0003546505941202106, 0.0003790394291863147, 0.00033808495663586286, 0.0003826474936147728, 0.0003524650770395474, 0.0003573223932218924, 0.00036501767440975366, 0.0003155311690969956, 0.0003598273297073548, 0.0005674198448518191, 0.000351408489483873, 0.0003567014134730974, 0.00035209830441631097, 0.00555104013573799, 0.000904795664398432, 0.0005605541158770907, 0.0008583953627139835, 0.0006156553798534739, 0.002432070588434471, 0.0014241995779923642, 0.0006240963755308002, 0.0005757548009041409, 0.0011350007696070618, 0.001644685080954624, 0.0007405517577969128, 0.000739067295941833, 0.0006851804481000842, 0.0005668319124938217, 0.0007352438312676637, 0.0005681618899893897, 0.0005192446915902021, 0.0005261142757067945, 0.0005096977346728474, 0.0005187654928117647, 0.0005077503771091405, 0.0005136087993175638, 0.0004960996739213814, 0.00048065565048197945, 0.00048302196442656306, 0.0004910831589590525, 0.0003955455479007743, 0.00034120596397192856, 0.0003659912517163875, 0.00036232087603014097, 0.00035213094287865593, 0.0003928628340737436, 0.00038282056024803923, 0.0003453712387319859, 0.00037208406235206216, 0.0003715502921174782, 0.00035528524237124395, 0.0003235583640987909, 0.0003472224951792042, 0.00035406384269581363, 0.00037071235621087025, 0.0003448047043350059, 0.0003969992457197979, 0.000346663739658484, 0.0006358832878214928, 0.0003545173163509748, 0.00038229844671758197, 0.00037034707411402247, 0.00038270039402521884, 0.00035935289803937145, 0.0003683259130769729, 0.0003565634394536344, 0.00035972393882670415, 0.0003351778457221047, 0.0003591065979185104, 0.0003276249980637678, 0.0008863295265084923, 0.0006260319331617845, 0.0027124452029475125, 0.00397031466521882, 0.0005099965026201323, 0.000598726359170706, 0.0005902747378272512, 0.0012140814944092422, 0.0018968799512313734, 0.0005976420070406064, 0.0005191420926080722, 0.0011902643865025601, 0.0007904968360963469, 0.0007526574561820449, 0.0005609232497182486, 0.000519164988046855, 0.0005184015435881326, 0.0006778141708842772, 0.0006777689372993392, 0.0005420810466568565, 0.0005316904184978668, 0.0006900087088376676, 0.0005264972871478299, 0.000528988199428871, 0.0004953634378926927, 0.0005316730495443074, 0.0004981713103556658, 0.0004944154831331914, 0.0004707257165919098, 0.00038833642796630517, 0.00037431560383466143, 0.0003625473154435988, 0.0003873048922565437, 0.0004085724712633293, 0.0003635153945370058, 0.00041060610141335443, 0.00037505365559611703, 0.00036884194244942277, 0.0003850533316999681, 0.0003410270941234021, 0.00037699023171893333, 0.0003470539634637306, 0.0003848799579149998, 0.0003627437221460291, 0.00037838841339607595, 0.00034693847381508556, 0.0003367443878141486, 0.00034163112774010914, 0.0003941497320094408, 0.0003404260789333786, 0.00037634609946466904, 0.00033909708888328914, 0.0003592103286516274, 0.0003790735962532362, 0.00037746763072693307, 0.0003612331389029254, 0.00039335105630897995, 0.00036395847635548056, 0.0003604602127039417, 0.0005762125457783146, 0.0034448614609045524, 0.0012963525917951727, 0.0005662562885813726, 0.001797287340705039, 0.0004894441557736879, 0.0003727252644711123, 0.0010413007380186338, 0.0006854706757538863, 0.001618638088891231, 0.0007026133889482999, 0.0005285836302056265, 0.0006349751371411874, 0.000629202605076946, 0.0004984482618826451, 0.0005278614832309264, 0.0006440481098158625, 0.0005300629379045555, 0.0005048453760837082, 0.0004755723490455431, 0.0006111147063945865, 0.0004963698661430366, 0.0005019583206169164, 0.000492764982373569, 0.000486724599769165, 0.0005139587028012754, 0.00048272179448814154, 0.00046532140052962193, 0.00047101364244408144, 0.000461477921740155, 0.00044195854581246695, 0.00044843172436595486, 0.0003856419793973351, 0.00039563746827470493, 0.00039280261718701844, 0.0003875448593168344, 0.00037641458484754696, 0.0003772693309701328, 0.0003285569981466264, 0.0003727174880312225, 0.0003664272224782831, 0.00038830208734214863, 0.0003960866087684246, 0.000388551849764137, 0.0003791526608329886, 0.0003978636206866597, 0.0003453606665478264, 0.00037156960715195694, 0.00036101812580857125, 0.0003485574955251474, 0.0003481152277354259, 0.000379938656696998, 0.00037451880981799175, 0.00036014708023258425, 0.0004009134295230464, 0.00036646051794292296, 0.00037782174777258205, 0.0004038212798721191, 0.0003778468470733322, 0.0003621243293105504, 0.0003436897636068607, 0.0003619737799432387, 0.0006106391001186711, 0.000566916907644122, 0.000556163726369546, 0.0022554695097234813, 0.0012484454418959234, 0.0005688661550970143, 0.002811876195466801, 0.0005810957139270937, 0.0005683594324887152, 0.0015691063068320869, 0.000693958376678801, 0.0007307057033389694, 0.0004892945454522227, 0.0006734336498716612, 0.0006665260715443978, 0.0006203289161982835, 0.0005289273397362804, 0.0005111489082970667, 0.0007788650621137564, 0.000528963189246325, 0.0005160812343454986, 0.0005052464629295387, 0.0005898753146616483, 0.0004963446395130702, 0.0005057829982132895, 0.0004768626133517102, 0.00046682112843846057, 0.0004467826454391928, 0.0004476104812106507, 0.00043396556329164653, 0.0003533407099464596, 0.00038103641397864505, 0.0003957769848807279, 0.0004013770635404055, 0.00037631478676960887, 0.0003968607991721496, 0.0004096199495166076, 0.0003620065110323071, 0.00037086708756996987, 0.0003467395657985871, 0.0003898316551817735, 0.00036560146359897975, 0.0003761464797902062, 0.0003599863164843936, 0.00038452124376930625, 0.0003934473878210859, 0.0003876778645020511, 0.0003747792671003035, 0.00038184453823372695, 0.0003773764511288537, 0.00035952019275443253, 0.00039740800001234296, 0.00036765783172585715, 0.0003568420012695248, 0.00034971859236862665, 0.000369887823744578, 0.00034876110698807953, 0.0003805612352449639, 0.0003825787829456361, 0.0003784603815100667, 0.0006232746661650431, 0.000382101978954877, 0.000389362954258446, 0.0003892788123777238, 0.000379307976294185, 0.0003996180245869631, 0.001123748808135855, 0.0005568091742946509, 0.0023767239425930595, 0.0016549550755017026, 0.0005123807288880849, 0.0009702389121456802, 0.0004864530027232706, 0.0013409571726032247, 0.0003980321916021155, 0.0005313025290207796, 0.0005120572098577362, 0.0005343771903608785, 0.0005249103929331338, 0.0006139369605852056, 0.0006561238049939224, 0.0006094842669866565, 0.000507812642037, 0.0005046329426537481, 0.0005860489422047802, 0.0004946831188224316, 0.0005826491365772548, 0.0004699475419422647, 0.0004874968821264908, 0.0004957224475058335, 0.0004915669902088864, 0.00047074856150212003, 0.0005037932884113536, 0.0004530477009223108, 0.00045179411692011627, 0.00044675294095159346, 0.0003856020783753036, 0.00035813178286167114, 0.0004037768664508973, 0.000384454813640975, 0.0003963504441856455, 0.0003857191428884982, 0.00037004436245327387, 0.0004297954644858522, 0.0003795887422667456, 0.0003821377164002382, 0.00037157337544740926, 0.000379502464652499, 0.000396807000430679, 0.00034545436011384936, 0.0003807029679684927, 0.0003533472990914413, 0.00039430504248901883, 0.0003829034650534851, 0.00040331924218372844, 0.0003675397808920201, 0.00037582730761291677, 0.00034989442996326823, 0.000351996761883289, 0.0003731403264452257, 0.00033925897266694167, 0.0003900870515901565, 0.0004028739698247347, 0.0003776046821892899, 0.00036475159301805867, 0.00036817258400727575, 0.0003850736860327247, 0.0005291443230337442, 0.0027717134003433577, 0.000386686213714278, 0.0016426845403128944, 0.0003973472338882379, 0.00146263003187059, 0.0010035907746794414, 0.0005310689917933198, 0.0005076552533109887, 0.000526918239853246, 0.000524409455857068, 0.000542711361784653, 0.0005319691022747812, 0.0006001175980009728, 0.0006268952811597642, 0.0005869030529905084, 0.0006103460924279469, 0.0004992348739235907, 0.0007195950982497789, 0.0004895704344913707, 0.00046223394357701236, 0.0005609056296552824, 0.0004869805272486432, 0.0005511994909240347, 0.0005097411934130176, 0.00048158265050457597, 0.0004749523690876865, 0.00045960419446505806, 0.0004655227552180309, 0.00045824455585088194, 0.00044740106641686717, 0.0004365545586594262, 0.00038489242878601344, 0.0003748296301850014, 0.00038653694566569136, 0.0003818694170845883, 0.00037998502065328356, 0.0003862097232111202, 0.00039188810310835574, 0.0003878791753055143, 0.0003891413986605031, 0.0003832703396692925, 0.00037980411265228894, 0.00038399095344430155, 0.00037770268234094085, 0.0003826381600030858, 0.0003748228739955392, 0.00038213885206296903, 0.00038609136220122927, 0.0003890189049986387, 0.0003819505842267183, 0.0003877078792029298, 0.00038654871675867185, 0.0003989106861028173, 0.0003841776192974839, 0.00038158790919033014, 0.0003853840518508313, 0.00038028152682380485, 0.0003836043879647635, 0.0003814267125462201, 0.0003828422387157068, 0.00037376345241014585, 0.0003876156142650509, 0.0003929566954663868, 0.00039064254966413617, 0.0003874471042199766, 0.0003926873765737357, 0.0003922390534860553, 0.00039873688254847366, 0.0003889307030612955, 0.0003937881478960094, 0.0007571206938566101, 0.0006256691141482778, 0.0004273097132527918, 0.0003905828351648346, 0.0005666365952908694, 0.0004270863178747669, 0.00044964804376369577, 0.000499044379076339, 0.000492297569341094, 0.0003934918042455095, 0.0004453847256930286, 0.00041552682596213814, 0.0004203267387092667, 0.0004192665045237662, 0.0004202427855096265, 0.000440870337406402, 0.0004359848462594189, 0.0004173048414308457, 0.0004162012840510618, 0.0004328079048805562, 0.0004164262117607173, 0.00041544189764236935, 0.0004134435978931899, 0.0004158826055061886, 0.00040467907887477766, 0.0004080811337004633, 0.0004135297335045464, 0.00040678101996333594, 0.0004034149517138235, 0.00040352518672264316, 0.0004017656056677946, 0.00040167292282128916, 0.00038694344354683305, 0.00038687216693657396, 0.0003892825933058608, 0.0003870286272220906, 0.00038883793870010105, 0.00039275446073958596, 0.0003862479277769529, 0.00038826194475094207, 0.0003892589118262307, 0.0003916742137942649, 0.00038764573872068574, 0.00039146177699170113, 0.00038282077654888213, 0.0003904696622980229, 0.0003857033233968722, 0.0003860179852531724, 0.0003899247096608888, 0.0003844514089413701, 0.0003895557429213977, 0.0003872421552300883, 0.0003904898612071191, 0.000392012812518701, 0.00038584097780150614, 0.000391442413899533, 0.0003867929268483608, 0.00038878442319956446, 0.0003911023757126096, 0.00039063937956870505, 0.0003869576524346111, 0.0003867353019145943, 0.0003900643839564324, 0.00039036504587918657, 0.0003938914039331978, 0.0003922377865751866, 0.00038997671604752736, 0.00039011016815038385, 0.000581460424040274, 0.0003920684872129685, 0.00038968418012268543, 0.0005156528425474997, 0.00041031511370220425, 0.00045559749245686703, 0.0004290107131846617, 0.00047428413012448405, 0.00044618006452209856, 0.0004114836786362633, 0.0004212072941723663, 0.0004087856615922926, 0.0004182213846309321, 0.0004157039504777091, 0.0004041574646556506, 0.0004003944311081601, 0.0004101470216311046, 0.00040222756336862195, 0.00040187717033864464, 0.000409538639775981, 0.0004025010612412123, 0.0003998145598971401, 0.00040186393657061606, 0.0004000884292439207, 0.0004007260646915285, 0.00039915649336906713, 0.0003977446128403776, 0.00039745969213643634, 0.00039556712400553044, 0.00039493009220348176, 0.0003934882151339276, 0.0003910461226571294, 0.0003910462619599101, 0.0003910462619599101, 0.0003910459369200884, 0.0003910460297886089, 0.0003910462155256499, 0.00039104616909138964, 0.00039104607622286914, 0.00039104607622286914, 0.0003910461226571294, 0.0003910460297886089, 0.0003910460297886089, 0.00039104607622286914, 0.00039104607622286914, 0.0003910460297886089, 0.0003910461226571294, 0.0003910461226571294, 0.0003910462619599101, 0.00039104616909138964, 0.0003910462619599101, 0.0003910461226571294, 0.0003910462619599101, 0.0003910461226571294, 0.00039104589048582816, 0.0003910459369200884, 0.00039104607622286914, 0.0003910462155256499, 0.00039104607622286914, 0.00039104616909138964, 0.0003910462155256499, 0.0003910537843100699, 0.00039105220554522155, 0.00039105188050539983, 0.00039105025530629124, 0.00039104946592386706, 0.000391047747856238, 0.0003910476549877175, 0.00039104751568493675, 0.00039104751568493675, 0.000391047376382156, 0.00039104719064511504, 0.00039104719064511504, 0.00039104709777659454, 0.00039104709777659454, 0.0003910470513423343, 0.00039104691203955356, 0.00039104691203955356, 0.0003910468656052933, 0.0003910468656052933, 0.0003910468656052933, 0.00039104681917103307, 0.00039104681917103307, 0.00039104681917103307, 0.00039104681917103307, 0.0003910467727367728, 0.0003910467263025126, 0.00039104667986825234, 0.0003910466334339921, 0.00039104658699973184, 0.0003910465405654716], \"Total\": [15.0, 9.0, 8.0, 4.0, 4.0, 2.0, 2.0, 2.0, 2.0, 2.0, 2.0, 2.0, 1.0, 1.0, 1.0, 1.0, 1.0, 1.0, 1.0, 1.0, 1.0, 1.0, 1.0, 1.0, 1.0, 1.0, 1.0, 1.0, 1.0, 1.0, 8.694535139103326, 15.73391814898974, 9.122386511198377, 4.684748687461982, 4.967071414330068, 2.914088606560157, 2.8282842024530463, 2.7449845863767304, 2.1300563593337363, 2.6534492849080573, 2.6146633587532024, 1.9777670985773037, 1.976665143879906, 2.5234528882603344, 1.919220016821733, 1.92874947614708, 1.8912589820803636, 1.8742894345587733, 1.83671789785142, 1.8482649833716533, 1.3179431121876362, 1.8175324174017011, 1.8210120838158164, 1.834353437062135, 1.820225489109988, 1.8119669375182017, 1.2834947429971215, 1.284934388339619, 1.2553016340462089, 1.2434858085966705, 1.7586245671751817, 1.700173280736469, 1.6331499495349555, 1.635734942136322, 1.5875527594868326, 0.8035889679428855, 1.486990123350497, 1.6331499495349555, 0.842924765986617, 0.9295613330264416, 0.8679260975211884, 0.8705665754706271, 0.9279170238548036, 0.9133353008042628, 0.8929443399752776, 0.9504714624842473, 0.9333423278045356, 0.9110564322713296, 0.9258314038952452, 1.0001529892490655, 0.9847115747287292, 0.9007854144890046, 0.9525536921833953, 1.018827224928885, 0.9117042026413312, 1.0371205731163011, 0.9560291481722152, 0.980174137613451, 1.008034924410178, 0.8760564112561489, 1.000721995182114, 1.5875527594868326, 0.9839946393819627, 1.0020632993924097, 0.9966658560454694, 15.73391814898974, 2.6534492849080573, 1.635734942136322, 2.6146633587532024, 1.83671789785142, 9.122386511198377, 4.967071414330068, 1.9777670985773037, 1.8175324174017011, 4.684748687461982, 8.694535139103326, 2.7449845863767304, 2.8282842024530463, 2.5234528882603344, 1.8912589820803636, 2.914088606560157, 1.976665143879906, 1.8210120838158164, 1.8742894345587733, 1.8119669375182017, 1.919220016821733, 1.8482649833716533, 1.92874947614708, 1.820225489109988, 1.700173280736469, 1.7586245671751817, 2.1300563593337363, 0.9085572107108669, 0.8035889679428855, 0.8705665754706271, 0.8929443399752776, 0.8760564112561489, 0.9787268036949653, 0.9617131529802025, 0.8679260975211884, 0.9420894552538585, 0.9611406693308758, 0.9224094508771465, 0.842924765986617, 0.9117042026413312, 0.9333423278045356, 0.9831344715710709, 0.9192931853108997, 1.0590800373508982, 0.9258314038952452, 1.700173280736469, 0.9481908272003825, 1.0228017265305482, 0.9931458174024594, 1.0344462220518924, 0.9713530300499282, 0.9965976454515926, 0.9842440187711078, 0.993177134551371, 0.9279170238548036, 0.9950214702973256, 0.9110564322713296, 2.5234528882603344, 1.820225489109988, 9.122386511198377, 15.73391814898974, 1.486990123350497, 1.834353437062135, 1.8210120838158164, 4.684748687461982, 8.694535139103326, 1.919220016821733, 1.5875527594868326, 4.967071414330068, 2.8282842024530463, 2.7449845863767304, 1.8119669375182017, 1.635734942136322, 1.6331499495349555, 2.6146633587532024, 2.6534492849080573, 1.8482649833716533, 1.8175324174017011, 2.914088606560157, 1.8742894345587733, 1.92874947614708, 1.7586245671751817, 2.1300563593337363, 1.83671789785142, 1.8912589820803636, 1.9777670985773037, 0.8035889679428855, 0.8679260975211884, 0.842924765986617, 0.9117042026413312, 0.9801970706088983, 0.8760564112561489, 1.013919400480687, 0.9333423278045356, 0.9224094508771465, 0.9671074041332286, 0.8705665754706271, 0.9656253116755584, 0.9007854144890046, 1.003693350929786, 0.9481908272003825, 0.9934244070337576, 0.9192931853108997, 0.8929443399752776, 0.9085572107108669, 1.051188126040158, 0.9110564322713296, 1.0129268858795215, 0.9133353008042628, 0.9716991985067425, 1.0257724320656916, 1.0228017265305482, 0.980174137613451, 1.0701496551341034, 0.9950214702973256, 0.9863540626808531, 1.5875527594868326, 15.73391814898974, 4.967071414330068, 1.7586245671751817, 8.694535139103326, 1.486990123350497, 1.0258169581591439, 4.684748687461982, 2.5234528882603344, 9.122386511198377, 2.8282842024530463, 1.834353437062135, 2.6534492849080573, 2.6146633587532024, 1.700173280736469, 1.8912589820803636, 2.7449845863767304, 1.976665143879906, 1.8175324174017011, 1.6331499495349555, 2.914088606560157, 1.8210120838158164, 1.92874947614708, 1.8482649833716533, 1.8119669375182017, 2.1300563593337363, 1.919220016821733, 1.83671789785142, 1.9777670985773037, 1.820225489109988, 1.635734942136322, 1.8742894345587733, 0.842924765986617, 0.8705665754706271, 0.8760564112561489, 0.9007854144890046, 0.9192931853108997, 0.9224094508771465, 0.8035889679428855, 0.9133353008042628, 0.9085572107108669, 0.9711498165867203, 0.9944472532662607, 0.980174137613451, 0.9656253116755584, 1.0279484138984785, 0.8929443399752776, 0.9671074041332286, 0.9420894552538585, 0.9110564322713296, 0.9117042026413312, 0.9975824367519445, 0.9842440187711078, 0.9481908272003825, 1.055857966144373, 0.9713530300499282, 1.00255142740757, 1.0727560403594598, 1.0038110828807534, 0.9734443944238764, 0.9258314038952452, 0.9772559113906123, 1.700173280736469, 1.5875527594868326, 1.635734942136322, 9.122386511198377, 4.967071414330068, 1.7586245671751817, 15.73391814898974, 1.8482649833716533, 1.834353437062135, 8.694535139103326, 2.5234528882603344, 2.7449845863767304, 1.486990123350497, 2.6146633587532024, 2.914088606560157, 2.6534492849080573, 1.919220016821733, 1.8119669375182017, 4.684748687461982, 1.976665143879906, 1.8912589820803636, 1.8742894345587733, 2.8282842024530463, 1.8210120838158164, 1.92874947614708, 1.820225489109988, 1.83671789785142, 1.6331499495349555, 1.8175324174017011, 2.1300563593337363, 0.8035889679428855, 0.8679260975211884, 0.9224094508771465, 0.9420894552538585, 0.8929443399752776, 0.9525536921833953, 0.9847655972546748, 0.8760564112561489, 0.9007854144890046, 0.842924765986617, 0.9611406693308758, 0.9085572107108669, 0.9481908272003825, 0.9133353008042628, 0.9801970706088983, 1.008034924410178, 0.9934671358105427, 0.9617131529802025, 0.9849279599465397, 0.9734443944238764, 0.9295613330264416, 1.0309906352567098, 0.9560291481722152, 0.9279170238548036, 0.9117042026413312, 0.9656253116755584, 0.9110564322713296, 0.9969586143697481, 1.00255142740757, 0.993177134551371, 1.635734942136322, 1.0038110828807534, 1.0257724320656916, 1.0283191539890013, 0.9975824367519445, 1.0727560403594598, 4.967071414330068, 1.7586245671751817, 15.73391814898974, 9.122386511198377, 1.5875527594868326, 4.684748687461982, 1.486990123350497, 8.694535139103326, 1.07135617936624, 1.8119669375182017, 1.700173280736469, 1.8742894345587733, 1.8175324174017011, 2.5234528882603344, 2.914088606560157, 2.6146633587532024, 1.820225489109988, 1.834353437062135, 2.6534492849080573, 1.8210120838158164, 2.7449845863767304, 1.6331499495349555, 1.8482649833716533, 1.9777670985773037, 1.976665143879906, 1.83671789785142, 2.8282842024530463, 1.8912589820803636, 1.92874947614708, 2.1300563593337363, 0.842924765986617, 0.8035889679428855, 0.9110564322713296, 0.8679260975211884, 0.9192931853108997, 0.9007854144890046, 0.8760564112561489, 1.0323215111572208, 0.9258314038952452, 0.9420894552538585, 0.9279170238548036, 0.9504714624842473, 0.9944472532662607, 0.8705665754706271, 0.9716991985067425, 0.9085572107108669, 1.013919400480687, 0.9849279599465397, 1.0418406622952883, 0.9525536921833953, 0.9772559113906123, 0.9133353008042628, 0.9224094508771465, 0.9787268036949653, 0.8929443399752776, 1.028324642806768, 1.0685680411623248, 1.00255142740757, 0.9711498165867203, 0.9847655972546748, 1.0325413920797724, 1.486990123350497, 15.73391814898974, 1.055857966144373, 8.694535139103326, 1.100229748852558, 9.122386511198377, 4.967071414330068, 1.7586245671751817, 1.635734942136322, 1.820225489109988, 1.8119669375182017, 1.92874947614708, 1.8742894345587733, 2.5234528882603344, 2.8282842024530463, 2.6146633587532024, 2.914088606560157, 1.83671789785142, 4.684748687461982, 1.834353437062135, 1.5875527594868326, 2.7449845863767304, 1.8482649833716533, 2.6534492849080573, 2.1300563593337363, 1.8175324174017011, 1.8210120838158164, 1.6331499495349555, 1.9777670985773037, 1.8912589820803636, 1.919220016821733, 1.700173280736469, 0.8035889679428855, 0.842924765986617, 0.8705665754706271, 0.8679260975211884, 0.8760564112561489, 0.8929443399752776, 0.9085572107108669, 0.9007854144890046, 0.9279170238548036, 0.9192931853108997, 0.9110564322713296, 0.9224094508771465, 0.9133353008042628, 0.9258314038952452, 0.9117042026413312, 0.9295613330264416, 0.9420894552538585, 0.9504714624842473, 0.9333423278045356, 0.9525536921833953, 0.9656253116755584, 0.9965976454515926, 0.9611406693308758, 0.9560291481722152, 0.9716991985067425, 0.9617131529802025, 0.9713530300499282, 0.9671074041332286, 0.9711498165867203, 0.9481908272003825, 0.9863540626808531, 1.0129268858795215, 1.003693350929786, 0.9966658560454694, 1.0283191539890013, 1.0323215111572208, 1.0997738454014911, 1.0173038961286391, 1.0671409224887887, 15.73391814898974, 9.122386511198377, 1.5875527594868326, 1.0415908305904777, 8.694535139103326, 1.7586245671751817, 2.5234528882603344, 4.967071414330068, 4.684748687461982, 1.0981531242476412, 2.7449845863767304, 1.635734942136322, 1.8210120838158164, 1.820225489109988, 1.8742894345587733, 2.8282842024530463, 2.6146633587532024, 1.83671789785142, 1.8912589820803636, 2.914088606560157, 1.9777670985773037, 1.92874947614708, 1.834353437062135, 2.1300563593337363, 1.6331499495349555, 1.976665143879906, 2.6534492849080573, 1.919220016821733, 1.700173280736469, 1.8119669375182017, 1.8175324174017011, 1.8482649833716533, 0.8035889679428855, 0.842924765986617, 0.8679260975211884, 0.8705665754706271, 0.8760564112561489, 0.8929443399752776, 0.9007854144890046, 0.9085572107108669, 0.9117042026413312, 0.9224094508771465, 0.9133353008042628, 0.9258314038952452, 0.9110564322713296, 0.9295613330264416, 0.9192931853108997, 0.9279170238548036, 0.9420894552538585, 0.9333423278045356, 0.9525536921833953, 0.9481908272003825, 0.9611406693308758, 0.9656253116755584, 0.9504714624842473, 0.9671074041332286, 0.9560291481722152, 0.9617131529802025, 0.9716991985067425, 0.980174137613451, 0.9711498165867203, 0.9713530300499282, 0.9847115747287292, 0.9863540626808531, 1.0129268858795215, 1.011129798340015, 0.9934671358105427, 0.9966658560454694, 15.73391814898974, 1.0380211723233947, 0.9944472532662607, 9.122386511198377, 1.635734942136322, 4.684748687461982, 2.7449845863767304, 8.694535139103326, 4.967071414330068, 1.8742894345587733, 2.6146633587532024, 1.8210120838158164, 2.5234528882603344, 2.8282842024530463, 1.83671789785142, 1.5875527594868326, 2.6534492849080573, 1.820225489109988, 1.8119669375182017, 2.914088606560157, 1.8912589820803636, 1.700173280736469, 2.1300563593337363, 1.8482649833716533, 1.976665143879906, 1.92874947614708, 1.7586245671751817, 1.8175324174017011, 1.919220016821733, 1.834353437062135, 1.6331499495349555, 0.8035889679428855, 0.842924765986617, 0.8679260975211884, 0.8705665754706271, 0.8760564112561489, 0.8929443399752776, 0.9007854144890046, 0.9085572107108669, 0.9110564322713296, 0.9117042026413312, 0.9133353008042628, 0.9192931853108997, 0.9224094508771465, 0.9258314038952452, 0.9279170238548036, 0.9295613330264416, 0.9333423278045356, 0.9420894552538585, 0.9481908272003825, 0.9504714624842473, 0.9525536921833953, 0.9560291481722152, 0.9611406693308758, 0.9617131529802025, 0.9656253116755584, 0.9671074041332286, 0.9711498165867203, 0.9713530300499282, 0.9716991985067425, 0.9734443944238764, 15.73391814898974, 8.694535139103326, 9.122386511198377, 4.967071414330068, 4.684748687461982, 2.8282842024530463, 2.5234528882603344, 2.914088606560157, 2.7449845863767304, 2.6146633587532024, 2.1300563593337363, 1.5875527594868326, 2.6534492849080573, 1.8482649833716533, 1.976665143879906, 1.8742894345587733, 1.919220016821733, 1.7586245671751817, 1.834353437062135, 1.486990123350497, 1.83671789785142, 1.820225489109988, 1.635734942136322, 1.8210120838158164, 1.700173280736469, 1.8119669375182017, 1.92874947614708, 1.8912589820803636, 1.9777670985773037, 1.8175324174017011], \"Category\": [\"Default\", \"Default\", \"Default\", \"Default\", \"Default\", \"Default\", \"Default\", \"Default\", \"Default\", \"Default\", \"Default\", \"Default\", \"Default\", \"Default\", \"Default\", \"Default\", \"Default\", \"Default\", \"Default\", \"Default\", \"Default\", \"Default\", \"Default\", \"Default\", \"Default\", \"Default\", \"Default\", \"Default\", \"Default\", \"Default\", \"Topic1\", \"Topic1\", \"Topic1\", \"Topic1\", \"Topic1\", \"Topic1\", \"Topic1\", \"Topic1\", \"Topic1\", \"Topic1\", \"Topic1\", \"Topic1\", \"Topic1\", \"Topic1\", \"Topic1\", \"Topic1\", \"Topic1\", \"Topic1\", \"Topic1\", \"Topic1\", \"Topic1\", \"Topic1\", \"Topic1\", \"Topic1\", \"Topic1\", \"Topic1\", \"Topic1\", \"Topic1\", \"Topic1\", \"Topic1\", \"Topic1\", \"Topic1\", \"Topic1\", \"Topic1\", \"Topic1\", \"Topic2\", \"Topic2\", \"Topic2\", \"Topic2\", \"Topic2\", \"Topic2\", \"Topic2\", \"Topic2\", \"Topic2\", \"Topic2\", \"Topic2\", \"Topic2\", \"Topic2\", \"Topic2\", \"Topic2\", \"Topic2\", \"Topic2\", \"Topic2\", \"Topic2\", \"Topic2\", \"Topic2\", \"Topic2\", \"Topic2\", \"Topic2\", \"Topic2\", \"Topic2\", \"Topic2\", \"Topic2\", \"Topic2\", \"Topic2\", \"Topic2\", \"Topic2\", \"Topic2\", \"Topic2\", \"Topic2\", \"Topic2\", \"Topic2\", \"Topic2\", \"Topic2\", \"Topic2\", \"Topic2\", \"Topic2\", \"Topic2\", \"Topic2\", \"Topic2\", \"Topic2\", \"Topic2\", \"Topic2\", \"Topic2\", \"Topic2\", \"Topic2\", \"Topic2\", \"Topic2\", \"Topic2\", \"Topic2\", \"Topic2\", \"Topic2\", \"Topic3\", \"Topic3\", \"Topic3\", \"Topic3\", \"Topic3\", \"Topic3\", \"Topic3\", \"Topic3\", \"Topic3\", \"Topic3\", \"Topic3\", \"Topic3\", \"Topic3\", \"Topic3\", \"Topic3\", \"Topic3\", \"Topic3\", \"Topic3\", \"Topic3\", \"Topic3\", \"Topic3\", \"Topic3\", \"Topic3\", \"Topic3\", \"Topic3\", \"Topic3\", \"Topic3\", \"Topic3\", \"Topic3\", \"Topic3\", \"Topic3\", \"Topic3\", \"Topic3\", \"Topic3\", \"Topic3\", \"Topic3\", \"Topic3\", \"Topic3\", \"Topic3\", \"Topic3\", \"Topic3\", \"Topic3\", \"Topic3\", \"Topic3\", \"Topic3\", \"Topic3\", \"Topic3\", \"Topic3\", \"Topic3\", \"Topic3\", \"Topic3\", \"Topic3\", \"Topic3\", \"Topic3\", \"Topic3\", \"Topic3\", \"Topic3\", \"Topic3\", \"Topic3\", \"Topic4\", \"Topic4\", \"Topic4\", \"Topic4\", \"Topic4\", \"Topic4\", \"Topic4\", \"Topic4\", \"Topic4\", \"Topic4\", \"Topic4\", \"Topic4\", \"Topic4\", \"Topic4\", \"Topic4\", \"Topic4\", \"Topic4\", \"Topic4\", \"Topic4\", \"Topic4\", \"Topic4\", \"Topic4\", \"Topic4\", \"Topic4\", \"Topic4\", \"Topic4\", \"Topic4\", \"Topic4\", \"Topic4\", \"Topic4\", \"Topic4\", \"Topic4\", \"Topic4\", \"Topic4\", \"Topic4\", \"Topic4\", \"Topic4\", \"Topic4\", \"Topic4\", \"Topic4\", \"Topic4\", \"Topic4\", \"Topic4\", \"Topic4\", \"Topic4\", \"Topic4\", \"Topic4\", \"Topic4\", \"Topic4\", \"Topic4\", \"Topic4\", \"Topic4\", \"Topic4\", \"Topic4\", \"Topic4\", \"Topic4\", \"Topic4\", \"Topic4\", \"Topic4\", \"Topic4\", \"Topic4\", \"Topic4\", \"Topic5\", \"Topic5\", \"Topic5\", \"Topic5\", \"Topic5\", \"Topic5\", \"Topic5\", \"Topic5\", \"Topic5\", \"Topic5\", \"Topic5\", \"Topic5\", \"Topic5\", \"Topic5\", \"Topic5\", \"Topic5\", \"Topic5\", \"Topic5\", \"Topic5\", \"Topic5\", \"Topic5\", \"Topic5\", \"Topic5\", \"Topic5\", \"Topic5\", \"Topic5\", \"Topic5\", \"Topic5\", \"Topic5\", \"Topic5\", \"Topic5\", \"Topic5\", \"Topic5\", \"Topic5\", \"Topic5\", \"Topic5\", \"Topic5\", \"Topic5\", \"Topic5\", \"Topic5\", \"Topic5\", \"Topic5\", \"Topic5\", \"Topic5\", \"Topic5\", \"Topic5\", \"Topic5\", \"Topic5\", \"Topic5\", \"Topic5\", \"Topic5\", \"Topic5\", \"Topic5\", \"Topic5\", \"Topic5\", \"Topic5\", \"Topic5\", \"Topic5\", \"Topic5\", \"Topic5\", \"Topic6\", \"Topic6\", \"Topic6\", \"Topic6\", \"Topic6\", \"Topic6\", \"Topic6\", \"Topic6\", \"Topic6\", \"Topic6\", \"Topic6\", \"Topic6\", \"Topic6\", \"Topic6\", \"Topic6\", \"Topic6\", \"Topic6\", \"Topic6\", \"Topic6\", \"Topic6\", \"Topic6\", \"Topic6\", \"Topic6\", \"Topic6\", \"Topic6\", \"Topic6\", \"Topic6\", \"Topic6\", \"Topic6\", \"Topic6\", \"Topic6\", \"Topic6\", \"Topic6\", \"Topic6\", \"Topic6\", \"Topic6\", \"Topic6\", \"Topic6\", \"Topic6\", \"Topic6\", \"Topic6\", \"Topic6\", \"Topic6\", \"Topic6\", \"Topic6\", \"Topic6\", \"Topic6\", \"Topic6\", \"Topic6\", \"Topic6\", \"Topic6\", \"Topic6\", \"Topic6\", \"Topic6\", \"Topic6\", \"Topic6\", \"Topic6\", \"Topic6\", \"Topic6\", \"Topic6\", \"Topic6\", \"Topic6\", \"Topic6\", \"Topic6\", \"Topic6\", \"Topic6\", \"Topic7\", \"Topic7\", \"Topic7\", \"Topic7\", \"Topic7\", \"Topic7\", \"Topic7\", \"Topic7\", \"Topic7\", \"Topic7\", \"Topic7\", \"Topic7\", \"Topic7\", \"Topic7\", \"Topic7\", \"Topic7\", \"Topic7\", \"Topic7\", \"Topic7\", \"Topic7\", \"Topic7\", \"Topic7\", \"Topic7\", \"Topic7\", \"Topic7\", \"Topic7\", \"Topic7\", \"Topic7\", \"Topic7\", \"Topic7\", \"Topic7\", \"Topic7\", \"Topic7\", \"Topic7\", \"Topic7\", \"Topic7\", \"Topic7\", \"Topic7\", \"Topic7\", \"Topic7\", \"Topic7\", \"Topic7\", \"Topic7\", \"Topic7\", \"Topic7\", \"Topic7\", \"Topic7\", \"Topic7\", \"Topic7\", \"Topic7\", \"Topic7\", \"Topic7\", \"Topic7\", \"Topic7\", \"Topic7\", \"Topic7\", \"Topic7\", \"Topic7\", \"Topic7\", \"Topic7\", \"Topic7\", \"Topic7\", \"Topic7\", \"Topic8\", \"Topic8\", \"Topic8\", \"Topic8\", \"Topic8\", \"Topic8\", \"Topic8\", \"Topic8\", \"Topic8\", \"Topic8\", \"Topic8\", \"Topic8\", \"Topic8\", \"Topic8\", \"Topic8\", \"Topic8\", \"Topic8\", \"Topic8\", \"Topic8\", \"Topic8\", \"Topic8\", \"Topic8\", \"Topic8\", \"Topic8\", \"Topic8\", \"Topic8\", \"Topic8\", \"Topic8\", \"Topic8\", \"Topic8\", \"Topic8\", \"Topic8\", \"Topic8\", \"Topic8\", \"Topic8\", \"Topic8\", \"Topic8\", \"Topic8\", \"Topic8\", \"Topic8\", \"Topic8\", \"Topic8\", \"Topic8\", \"Topic8\", \"Topic8\", \"Topic8\", \"Topic8\", \"Topic8\", \"Topic8\", \"Topic8\", \"Topic8\", \"Topic8\", \"Topic8\", \"Topic8\", \"Topic8\", \"Topic8\", \"Topic8\", \"Topic8\", \"Topic8\", \"Topic8\", \"Topic8\", \"Topic8\", \"Topic8\", \"Topic8\", \"Topic8\", \"Topic8\", \"Topic8\", \"Topic8\", \"Topic8\", \"Topic8\", \"Topic8\", \"Topic9\", \"Topic9\", \"Topic9\", \"Topic9\", \"Topic9\", \"Topic9\", \"Topic9\", \"Topic9\", \"Topic9\", \"Topic9\", \"Topic9\", \"Topic9\", \"Topic9\", \"Topic9\", \"Topic9\", \"Topic9\", \"Topic9\", \"Topic9\", \"Topic9\", \"Topic9\", \"Topic9\", \"Topic9\", \"Topic9\", \"Topic9\", \"Topic9\", \"Topic9\", \"Topic9\", \"Topic9\", \"Topic9\", \"Topic9\", \"Topic9\", \"Topic9\", \"Topic9\", \"Topic9\", \"Topic9\", \"Topic9\", \"Topic9\", \"Topic9\", \"Topic9\", \"Topic9\", \"Topic9\", \"Topic9\", \"Topic9\", \"Topic9\", \"Topic9\", \"Topic9\", \"Topic9\", \"Topic9\", \"Topic9\", \"Topic9\", \"Topic9\", \"Topic9\", \"Topic9\", \"Topic9\", \"Topic9\", \"Topic9\", \"Topic9\", \"Topic9\", \"Topic9\", \"Topic9\", \"Topic9\", \"Topic9\", \"Topic9\", \"Topic9\", \"Topic9\", \"Topic9\", \"Topic9\", \"Topic10\", \"Topic10\", \"Topic10\", \"Topic10\", \"Topic10\", \"Topic10\", \"Topic10\", \"Topic10\", \"Topic10\", \"Topic10\", \"Topic10\", \"Topic10\", \"Topic10\", \"Topic10\", \"Topic10\", \"Topic10\", \"Topic10\", \"Topic10\", \"Topic10\", \"Topic10\", \"Topic10\", \"Topic10\", \"Topic10\", \"Topic10\", \"Topic10\", \"Topic10\", \"Topic10\", \"Topic10\", \"Topic10\", \"Topic10\", \"Topic10\", \"Topic10\", \"Topic10\", \"Topic10\", \"Topic10\", \"Topic10\", \"Topic10\", \"Topic10\", \"Topic10\", \"Topic10\", \"Topic10\", \"Topic10\", \"Topic10\", \"Topic10\", \"Topic10\", \"Topic10\", \"Topic10\", \"Topic10\", \"Topic10\", \"Topic10\", \"Topic10\", \"Topic10\", \"Topic10\", \"Topic10\", \"Topic10\", \"Topic10\", \"Topic10\", \"Topic10\", \"Topic10\", \"Topic10\"], \"logprob\": [30.0, 29.0, 28.0, 27.0, 26.0, 25.0, 24.0, 23.0, 22.0, 21.0, 20.0, 19.0, 18.0, 17.0, 16.0, 15.0, 14.0, 13.0, 12.0, 11.0, 10.0, 9.0, 8.0, 7.0, 6.0, 5.0, 4.0, 3.0, 2.0, 1.0, -3.6441, -3.0511, -3.5962, -4.2627, -4.2044, -4.7377, -4.7676, -4.7976, -5.0512, -4.8315, -4.8463, -5.1256, -5.1262, -4.882, -5.1557, -5.1508, -5.1704, -5.1795, -5.1998, -5.1935, -5.5317, -5.2103, -5.2084, -5.2011, -5.2089, -5.2134, -5.5582, -5.5572, -5.5806, -5.59, -5.2434, -5.2773, -5.3175, -5.3161, -5.346, -5.5794, -4.9772, -4.9626, -5.6417, -5.5504, -5.6507, -5.6635, -5.605, -5.6282, -5.664, -5.6071, -5.6256, -5.6515, -5.6402, -5.5721, -5.5886, -5.6881, -5.6392, -5.5727, -5.6871, -5.5633, -5.6454, -5.6317, -5.6104, -5.7561, -5.6248, -5.1693, -5.6484, -5.6335, -5.6465, -2.8886, -4.7027, -5.1814, -4.7553, -5.0877, -3.7139, -4.249, -5.0741, -5.1547, -4.476, -4.1051, -4.903, -4.905, -4.9807, -5.1703, -4.9102, -5.168, -5.258, -5.2449, -5.2766, -5.2589, -5.2804, -5.2689, -5.3036, -5.3352, -5.3303, -5.3138, -5.53, -5.6777, -5.6076, -5.6177, -5.6462, -5.5368, -5.5627, -5.6656, -5.5911, -5.5926, -5.6373, -5.7309, -5.6603, -5.6408, -5.5948, -5.6673, -5.5263, -5.6619, -5.0552, -5.6395, -5.564, -5.5958, -5.563, -5.6259, -5.6013, -5.6337, -5.6249, -5.6956, -5.6266, -5.7184, -4.7231, -5.0708, -3.6046, -3.2236, -5.2758, -5.1154, -5.1296, -4.4085, -3.9623, -5.1172, -5.2581, -4.4283, -4.8376, -4.8866, -5.1807, -5.258, -5.2595, -4.9914, -4.9914, -5.2148, -5.2342, -4.9735, -5.244, -5.2393, -5.3049, -5.2342, -5.2993, -5.3069, -5.356, -5.5483, -5.5851, -5.617, -5.5509, -5.4975, -5.6143, -5.4925, -5.5831, -5.5998, -5.5568, -5.6782, -5.5779, -5.6607, -5.5572, -5.6165, -5.5742, -5.661, -5.6908, -5.6764, -5.5334, -5.68, -5.5796, -5.6839, -5.6262, -5.5724, -5.5767, -5.6206, -5.5355, -5.6131, -5.6228, -5.1537, -3.3655, -4.3428, -5.1711, -4.0161, -5.3169, -5.5893, -4.5619, -4.9801, -4.1208, -4.9553, -5.24, -5.0566, -5.0657, -5.2987, -5.2413, -5.0424, -5.2372, -5.2859, -5.3456, -5.0949, -5.3028, -5.2916, -5.3101, -5.3225, -5.268, -5.3307, -5.3674, -5.3553, -5.3757, -5.4189, -5.4044, -5.5552, -5.5297, -5.5368, -5.5503, -5.5795, -5.5772, -5.7154, -5.5893, -5.6064, -5.5484, -5.5285, -5.5477, -5.5722, -5.524, -5.6656, -5.5924, -5.6212, -5.6563, -5.6576, -5.5701, -5.5845, -5.6236, -5.5164, -5.6063, -5.5757, -5.5092, -5.5757, -5.6182, -5.6704, -5.6186, -5.0956, -5.1699, -5.1891, -3.789, -4.3805, -5.1665, -3.5685, -5.1452, -5.1674, -4.1519, -4.9677, -4.9161, -5.3172, -4.9978, -5.0081, -5.0799, -5.2393, -5.2735, -4.8523, -5.2392, -5.2639, -5.2851, -5.1302, -5.3029, -5.284, -5.3429, -5.3642, -5.4081, -5.4062, -5.4372, -5.6427, -5.5672, -5.5293, -5.5152, -5.5797, -5.5265, -5.4949, -5.6185, -5.5943, -5.6616, -5.5444, -5.6086, -5.5801, -5.6241, -5.5581, -5.5352, -5.55, -5.5838, -5.5651, -5.5769, -5.6254, -5.5252, -5.603, -5.6328, -5.653, -5.5969, -5.6557, -5.5685, -5.5632, -5.574, -5.0751, -5.5644, -5.5456, -5.5458, -5.5718, -5.5196, -4.4857, -5.1879, -3.7366, -4.0986, -5.2711, -4.6326, -5.323, -4.309, -5.5236, -5.2348, -5.2717, -5.229, -5.2469, -5.0902, -5.0238, -5.0975, -5.28, -5.2863, -5.1367, -5.3062, -5.1425, -5.3575, -5.3208, -5.3041, -5.3125, -5.3558, -5.288, -5.3941, -5.3969, -5.4081, -5.5553, -5.6292, -5.5093, -5.5583, -5.5278, -5.555, -5.5965, -5.4468, -5.571, -5.5643, -5.5924, -5.5713, -5.5267, -5.6653, -5.5681, -5.6427, -5.533, -5.5623, -5.5104, -5.6033, -5.581, -5.6525, -5.6465, -5.5882, -5.6834, -5.5438, -5.5115, -5.5763, -5.6109, -5.6016, -5.5567, -5.2389, -3.5829, -5.5525, -4.106, -5.5253, -4.2221, -4.5988, -5.2352, -5.2803, -5.2431, -5.2478, -5.2135, -5.2335, -5.113, -5.0693, -5.1353, -5.0961, -5.297, -4.9314, -5.3166, -5.3741, -5.1806, -5.3219, -5.198, -5.2762, -5.333, -5.3469, -5.3798, -5.367, -5.3827, -5.4067, -5.4312, -5.5571, -5.5836, -5.5529, -5.565, -5.57, -5.5537, -5.5391, -5.5494, -5.5461, -5.5613, -5.5704, -5.5595, -5.576, -5.563, -5.5836, -5.5643, -5.554, -5.5465, -5.5648, -5.5498, -5.5528, -5.5214, -5.559, -5.5657, -5.5558, -5.5692, -5.5605, -5.5662, -5.5625, -5.5865, -5.5501, -5.5364, -5.5423, -5.5505, -5.5371, -5.5382, -5.5218, -5.5467, -5.5343, -4.8806, -5.0713, -5.4526, -5.5425, -5.1704, -5.4531, -5.4016, -5.2974, -5.311, -5.535, -5.4112, -5.4805, -5.4691, -5.4716, -5.4693, -5.4213, -5.4325, -5.4763, -5.4789, -5.4398, -5.4784, -5.4807, -5.4856, -5.4797, -5.507, -5.4986, -5.4854, -5.5018, -5.5101, -5.5099, -5.5142, -5.5145, -5.5518, -5.552, -5.5458, -5.5516, -5.5469, -5.5369, -5.5536, -5.5484, -5.5458, -5.5397, -5.55, -5.5402, -5.5625, -5.5427, -5.555, -5.5542, -5.5441, -5.5583, -5.5451, -5.551, -5.5427, -5.5388, -5.5547, -5.5403, -5.5522, -5.5471, -5.5411, -5.5423, -5.5518, -5.5523, -5.5438, -5.543, -5.534, -5.5382, -5.544, -5.5437, -5.1445, -5.5387, -5.5448, -5.2647, -5.4932, -5.3885, -5.4486, -5.3483, -5.4094, -5.4903, -5.467, -5.4969, -5.4741, -5.4801, -5.5083, -5.5176, -5.4936, -5.5131, -5.5139, -5.4951, -5.5124, -5.5191, -5.514, -5.5184, -5.5168, -5.5207, -5.5243, -5.525, -5.5298, -5.5314, -5.535, -5.5413, -5.5413, -5.5413, -5.5413, -5.5413, -5.5413, -5.5413, -5.5413, -5.5413, -5.5413, -5.5413, -5.5413, -5.5413, -5.5413, -5.5413, -5.5413, -5.5413, -5.5413, -5.5413, -5.5413, -5.5413, -5.5413, -5.5413, -5.5413, -5.5413, -5.5413, -5.5413, -5.5413, -5.5413, -5.5413, -5.5412, -5.5412, -5.5412, -5.5413, -5.5413, -5.5413, -5.5413, -5.5413, -5.5413, -5.5413, -5.5413, -5.5413, -5.5413, -5.5413, -5.5413, -5.5413, -5.5413, -5.5413, -5.5413, -5.5413, -5.5413, -5.5413, -5.5413, -5.5413, -5.5413, -5.5413, -5.5413, -5.5413, -5.5413, -5.5413], \"loglift\": [30.0, 29.0, 28.0, 27.0, 26.0, 25.0, 24.0, 23.0, 22.0, 21.0, 20.0, 19.0, 18.0, 17.0, 16.0, 15.0, 14.0, 13.0, 12.0, 11.0, 10.0, 9.0, 8.0, 7.0, 6.0, 5.0, 4.0, 3.0, 2.0, 1.0, 0.0014, 0.0013, 0.0012, 0.0012, 0.001, 0.0009, 0.0009, 0.0008, 0.0008, 0.0007, 0.0007, 0.0006, 0.0006, 0.0005, 0.0005, 0.0005, 0.0005, 0.0004, 0.0004, 0.0004, 0.0004, 0.0004, 0.0003, 0.0003, 0.0003, 0.0003, 0.0003, 0.0003, 0.0002, 0.0002, 0.0002, 0.0001, 0.0001, -0.0, -0.0001, 0.4474, 0.4342, 0.355, 0.3373, 0.3308, 0.2991, 0.2833, 0.2779, 0.2706, 0.2574, 0.2519, 0.2515, 0.2498, 0.245, 0.2359, 0.2349, 0.2246, 0.2175, 0.2168, 0.2135, 0.2084, 0.2077, 0.1964, 0.1897, 0.1844, 0.1827, 0.1767, 0.1759, 0.1726, 0.165, 0.1637, 0.1296, 0.1346, 0.0917, 0.1125, -0.1165, -0.0437, 0.0521, 0.056, -0.2122, -0.4596, -0.1046, -0.1365, -0.0982, 0.0006, -0.1716, -0.0412, -0.0492, -0.0649, -0.0628, -0.1027, -0.0865, -0.1176, -0.0944, -0.0578, -0.0867, -0.2618, 0.3741, 0.3491, 0.3391, 0.3037, 0.2942, 0.2929, 0.2845, 0.2842, 0.2767, 0.2552, 0.2516, 0.2482, 0.2403, 0.2364, 0.2303, 0.225, 0.2244, 0.2233, 0.2222, 0.2219, 0.2216, 0.2192, 0.2113, 0.2113, 0.2103, 0.1903, 0.1901, 0.1874, 0.1865, 0.1829, 0.1594, 0.1383, -0.0072, -0.1713, 0.1356, 0.086, 0.0791, -0.1447, -0.3168, 0.039, 0.0879, -0.223, -0.0691, -0.0883, 0.0331, 0.058, 0.0581, -0.1444, -0.1591, -0.0209, -0.0235, -0.2349, -0.0641, -0.088, -0.0613, -0.1822, -0.0991, -0.136, -0.2298, 0.4785, 0.3647, 0.362, 0.3496, 0.3307, 0.3261, 0.3018, 0.294, 0.2891, 0.2848, 0.2686, 0.2652, 0.252, 0.2472, 0.2449, 0.2405, 0.2313, 0.2305, 0.2276, 0.2248, 0.2213, 0.2157, 0.2149, 0.2106, 0.2103, 0.2089, 0.2075, 0.2049, 0.2, 0.1991, 0.1923, -0.3132, -0.1375, 0.0725, -0.3707, 0.0945, 0.1933, -0.2981, -0.0975, -0.5234, -0.1869, -0.0385, -0.2243, -0.2187, -0.0212, -0.0704, -0.244, -0.1104, -0.0752, -0.028, -0.3563, -0.0941, -0.1404, -0.1162, -0.1087, -0.216, -0.1745, -0.1673, -0.2291, -0.1665, -0.1029, -0.2245, 0.4238, 0.4171, 0.4036, 0.3623, 0.3128, 0.3117, 0.3114, 0.3095, 0.2977, 0.289, 0.2852, 0.2804, 0.2709, 0.2565, 0.2558, 0.2492, 0.2466, 0.2449, 0.243, 0.2404, 0.2395, 0.2377, 0.2374, 0.2309, 0.2299, 0.2287, 0.2287, 0.2169, 0.2148, 0.2126, 0.1818, 0.176, 0.127, -0.1916, -0.1752, 0.0771, -0.5162, 0.0487, 0.0341, -0.5064, -0.0852, -0.1178, 0.0942, -0.1508, -0.2695, -0.2476, -0.0831, -0.0598, -0.5885, -0.1125, -0.093, -0.1052, -0.3618, -0.0941, -0.1328, -0.1337, -0.164, -0.0904, -0.1956, -0.3852, 0.3841, 0.3826, 0.3596, 0.3526, 0.3417, 0.3302, 0.3286, 0.322, 0.3183, 0.3175, 0.3034, 0.2955, 0.2812, 0.2747, 0.27, 0.265, 0.2647, 0.2634, 0.2582, 0.2582, 0.2558, 0.2525, 0.2501, 0.2501, 0.2476, 0.2462, 0.2456, 0.2427, 0.2424, 0.241, 0.2409, 0.2399, 0.2371, 0.2344, 0.2388, 0.2183, -0.2804, 0.0557, -0.6843, -0.5012, 0.0749, -0.3688, 0.0884, -0.6635, 0.2156, -0.0211, 0.0057, -0.0491, -0.0362, -0.2077, -0.2852, -0.2505, -0.0708, -0.0848, -0.3044, -0.0975, -0.3442, -0.0399, -0.1269, -0.1779, -0.1858, -0.1556, -0.5195, -0.2232, -0.2456, -0.3561, 0.4237, 0.3976, 0.392, 0.3915, 0.3645, 0.3576, 0.344, 0.3295, 0.3142, 0.3035, 0.2906, 0.2877, 0.287, 0.2815, 0.2687, 0.2614, 0.2613, 0.261, 0.2568, 0.2535, 0.2502, 0.2463, 0.2424, 0.2415, 0.238, 0.2365, 0.2303, 0.2293, 0.2265, 0.2219, 0.2194, 0.1725, -0.5306, 0.2013, -0.4606, 0.1873, -0.6247, -0.3935, 0.0084, 0.0357, -0.0339, -0.0341, -0.0623, -0.0536, -0.2305, -0.3009, -0.2883, -0.3575, -0.0969, -0.6676, -0.1151, -0.0281, -0.3822, -0.128, -0.3657, -0.2242, -0.1224, -0.1382, -0.0621, -0.2408, -0.2118, -0.2504, -0.1538, 0.4697, 0.3954, 0.3939, 0.3848, 0.3705, 0.3677, 0.3649, 0.3632, 0.3368, 0.3309, 0.3309, 0.3294, 0.3228, 0.3222, 0.3169, 0.3169, 0.3138, 0.3125, 0.3123, 0.3069, 0.2903, 0.2902, 0.2888, 0.2874, 0.281, 0.278, 0.2767, 0.2754, 0.2749, 0.2749, 0.2718, 0.2589, 0.2622, 0.261, 0.2431, 0.2381, 0.1912, 0.2443, 0.2089, -1.8282, -1.4739, -0.1066, 0.2249, -1.5249, -0.2095, -0.5191, -1.0921, -1.0472, 0.1795, -0.6128, -0.1645, -0.2603, -0.2624, -0.2893, -0.6529, -0.5855, -0.2761, -0.308, -0.7012, -0.3522, -0.3295, -0.2841, -0.4277, -0.1894, -0.3719, -0.6531, -0.3456, -0.2327, -0.2961, -0.3036, -0.3206, 0.475, 0.427, 0.404, 0.3952, 0.3935, 0.3845, 0.359, 0.3556, 0.3547, 0.3492, 0.3488, 0.345, 0.3388, 0.3384, 0.3373, 0.3287, 0.3237, 0.3189, 0.3117, 0.3103, 0.3051, 0.3043, 0.3043, 0.3013, 0.3009, 0.3001, 0.2957, 0.2859, 0.2856, 0.2849, 0.2798, 0.2789, 0.2613, 0.2589, 0.2707, 0.2678, -2.0922, 0.2322, 0.269, -1.6672, -0.1771, -1.1246, -0.6502, -1.7028, -1.2041, -0.3104, -0.62, -0.2881, -0.5916, -0.7116, -0.3081, -0.1717, -0.6613, -0.3039, -0.3002, -0.7565, -0.3415, -0.2417, -0.462, -0.3245, -0.3901, -0.3695, -0.2807, -0.3143, -0.3735, -0.3299, -0.2174, 0.4855, 0.4378, 0.4085, 0.4055, 0.3992, 0.3801, 0.3714, 0.3628, 0.36, 0.3593, 0.3575, 0.351, 0.3476, 0.3439, 0.3417, 0.3399, 0.3359, 0.3265, 0.3201, 0.3177, 0.3155, 0.3118, 0.3065, 0.3059, 0.3019, 0.3003, 0.2962, 0.2959, 0.2956, 0.2938, -2.4889, -1.8958, -1.9438, -1.3359, -1.2774, -0.7728, -0.6587, -0.8027, -0.7429, -0.6943, -0.4893, -0.1953, -0.709, -0.3474, -0.4145, -0.3613, -0.385, -0.2977, -0.3398, -0.1299, -0.3411, -0.3321, -0.2252, -0.3325, -0.2639, -0.3275, -0.39, -0.3704, -0.4151, -0.3306]}, \"token.table\": {\"Topic\": [1, 1, 1, 1, 1, 1, 1, 1, 1, 1, 1, 1, 1, 1, 1, 1, 1, 1, 1, 1, 1, 1, 1, 1, 1, 1, 1, 1, 1, 1, 1, 1, 1, 1, 1, 1, 1, 1, 1, 1, 1, 1, 1, 1, 1, 1, 1, 1, 1, 1, 1, 1, 1, 1, 1, 1, 1, 1, 1, 1, 1, 1, 1, 1, 1, 1, 1, 1, 1, 1, 1, 1, 1, 1, 1, 1, 1, 1, 1, 1, 1, 1, 1, 1, 1, 1, 1, 1, 1, 1, 1, 1, 1, 1, 1, 1, 1, 1, 1, 1, 1, 1, 1, 1, 1, 1, 1, 1, 1, 1, 1, 1, 1, 1, 1, 1, 1, 1, 1, 1, 1, 1, 1, 1], \"Freq\": [0.986583937103724, 0.9442157011110544, 1.0171548541085917, 0.9321783913376235, 1.0546400274221053, 1.0498095889039607, 1.1198906306161103, 1.0030506638755257, 1.0033452976584947, 1.1006461543765493, 0.9598396724091103, 0.9699409148862024, 1.0948881523788931, 1.023273421367207, 1.0776825667512224, 0.9862716893728555, 0.9748750977701836, 1.0877922473251074, 1.0154700801772478, 1.0976268478857316, 0.9724555440687902, 0.9389422919427274, 1.0162656989961756, 1.0398110880579645, 1.029481393683926, 1.0055837518938298, 1.0351329721496965, 1.0888988463277818, 1.006629376331279, 1.1101423090506828, 1.2598006510640243, 1.0169113534524994, 1.0670710527004705, 1.0672931108090686, 1.1486772271947168, 1.0607137703481213, 1.0574966299961852, 1.0160082062256925, 1.0404304301223433, 1.2246272919210548, 0.9889927105715934, 1.0297072428172604, 0.9777066014467006, 1.1306038585561098, 0.9686904604738995, 0.7587580911137457, 1.0112414153510236, 0.9344487429421142, 0.9748327828334277, 1.137252394473558, 1.0355983712406984, 1.013834725110837, 1.188847239414165, 1.1521718299012058, 1.0291250641523104, 0.9815206892118542, 0.910619819695102, 0.796621284381431, 0.9974550658072798, 0.9684841766834871, 0.9962033863286145, 1.084117252971628, 0.999278525718841, 1.0903024245988064, 0.9633714866930004, 1.0987649672887032, 0.9370833588386785, 1.0420900066017653, 0.8041909228771535, 0.992029121000069, 1.0217355815991984, 1.006901486647215, 1.0340113163503815, 1.0202030081346807, 0.9642080447746181, 1.0024234220240755, 1.0929023116883434, 1.1003930278498966, 0.9963202397162793, 0.7791227860153711, 1.0294918212677004, 0.6724994230269619, 0.9728114625981235, 0.9513045050908399, 1.020226877679941, 1.0153026827000406, 0.933396399124285, 0.9470970831916465, 1.1863454964803783, 0.96670080926627, 1.005003439474715, 1.0155257901538148, 1.1763506829925325, 1.0369413056148962, 0.9092778521523514, 1.1037728992667724, 1.0757762446338275, 1.0118051639613026, 0.982990435606814, 1.096846978551666, 1.0068697367380604, 0.9358318436252869, 1.0066191175893053, 1.1473752404709356, 1.0714182462422557, 1.2226919829614546, 0.9600698956164007, 1.08209592130645, 0.9998470341530645, 0.9979409490461723, 1.0034139700850544, 1.0521094419671475, 0.9089010736556716, 1.0272800436555396, 1.080110261752524, 1.0459932125624523, 1.061470324737407, 1.0065758231490238, 0.9724607347056143, 1.244417282830436, 0.7782498539028061, 1.0982903506104835, 0.9872380859273006, 1.1414790042642715], \"Term\": [\"...\", \"1\", \"13\", \"16\", \"18\", \"20\", \"21\", \"24\", \"3\", \"33\", \"34\", \"38\", \"4\", \"43\", \"44\", \"45\", \"46\", \"52\", \"55\", \"6\", \"7\", \"A\", \"All\", \"AllI\", \"Any\", \"First\", \"Hello\", \"Hey\", \"Hi\", \"Hope\", \"How\", \"I\", \"Id\", \"Im\", \"Im...\", \"Ive\", \"Just\", \"Monday\", \"Name:\", \"So\", \"There\", \"To\", \"Were\", \"What\", \"a...\", \"ago\", \"anyone\", \"base\", \"be...\", \"bit\", \"career\", \"churning\", \"company\", \"conducting\", \"context\", \"could\", \"do...\", \"dont...\", \"dtype:\", \"femmes\", \"from...\", \"fully\", \"getting\", \"going\", \"great\", \"grew\", \"groups\", \"h...\", \"handsoff\", \"hear\", \"help\", \"hope\", \"inheri...\", \"interview\", \"investing\", \"investments...\", \"job\", \"k\", \"little\", \"living\", \"loaned\", \"love\", \"made\", \"make\", \"many\", \"mildly\", \"mindset\", \"mom\", \"month\", \"months\", \"need\", \"negotiating\", \"new\", \"personal\", \"planning\", \"posted\", \"proud\", \"recently\", \"s...\", \"safe\", \"see\", \"selftext,\", \"sorts\", \"start\", \"started\", \"struggling\", \"successfully\", \"super\", \"terminated\", \"think\", \"thinking\", \"threa...\", \"thread\", \"tips\", \"triumphs\", \"understand\", \"vent\", \"video\", \"wealthy\", \"weekend\", \"wit...\", \"work\", \"workrel...\", \"would\"]}, \"R\": 30, \"lambda.step\": 0.01, \"plot.opts\": {\"xlab\": \"PC1\", \"ylab\": \"PC2\"}, \"topic.order\": [8, 9, 4, 5, 3, 7, 10, 2, 1, 6]};\n",
       "\n",
       "function LDAvis_load_lib(url, callback){\n",
       "  var s = document.createElement('script');\n",
       "  s.src = url;\n",
       "  s.async = true;\n",
       "  s.onreadystatechange = s.onload = callback;\n",
       "  s.onerror = function(){console.warn(\"failed to load library \" + url);};\n",
       "  document.getElementsByTagName(\"head\")[0].appendChild(s);\n",
       "}\n",
       "\n",
       "if(typeof(LDAvis) !== \"undefined\"){\n",
       "   // already loaded: just create the visualization\n",
       "   !function(LDAvis){\n",
       "       new LDAvis(\"#\" + \"ldavis_el2210018021369347285235252227\", ldavis_el2210018021369347285235252227_data);\n",
       "   }(LDAvis);\n",
       "}else if(typeof define === \"function\" && define.amd){\n",
       "   // require.js is available: use it to load d3/LDAvis\n",
       "   require.config({paths: {d3: \"https://d3js.org/d3.v5\"}});\n",
       "   require([\"d3\"], function(d3){\n",
       "      window.d3 = d3;\n",
       "      LDAvis_load_lib(\"https://cdn.jsdelivr.net/gh/bmabey/pyLDAvis@3.3.1/pyLDAvis/js/ldavis.v3.0.0.js\", function(){\n",
       "        new LDAvis(\"#\" + \"ldavis_el2210018021369347285235252227\", ldavis_el2210018021369347285235252227_data);\n",
       "      });\n",
       "    });\n",
       "}else{\n",
       "    // require.js not available: dynamically load d3 & LDAvis\n",
       "    LDAvis_load_lib(\"https://d3js.org/d3.v5.js\", function(){\n",
       "         LDAvis_load_lib(\"https://cdn.jsdelivr.net/gh/bmabey/pyLDAvis@3.3.1/pyLDAvis/js/ldavis.v3.0.0.js\", function(){\n",
       "                 new LDAvis(\"#\" + \"ldavis_el2210018021369347285235252227\", ldavis_el2210018021369347285235252227_data);\n",
       "            })\n",
       "         });\n",
       "}\n",
       "</script>"
      ],
      "text/plain": [
       "PreparedData(topic_coordinates=              x         y  topics  cluster       Freq\n",
       "topic                                                \n",
       "7      0.014938 -0.001084       1        1  99.730476\n",
       "8      0.012780  0.001772       2        1   0.029954\n",
       "3      0.008118 -0.000803       3        1   0.029949\n",
       "4      0.002858  0.000315       4        1   0.029947\n",
       "2      0.002199 -0.000339       5        1   0.029947\n",
       "6     -0.000077  0.000007       6        1   0.029946\n",
       "9      0.000190  0.000217       7        1   0.029946\n",
       "1     -0.010383 -0.000251       8        1   0.029945\n",
       "0     -0.013238  0.000040       9        1   0.029945\n",
       "5     -0.017385  0.000127      10        1   0.029945, topic_info=         Term       Freq      Total Category  logprob  loglift\n",
       "64          I  15.000000  15.000000  Default  30.0000  30.0000\n",
       "0         ...   9.000000   9.000000  Default  29.0000  29.0000\n",
       "59      Hello   8.000000   8.000000  Default  28.0000  28.0000\n",
       "61         Hi   4.000000   4.000000  Default  27.0000  27.0000\n",
       "67         Im   4.000000   4.000000  Default  26.0000  26.0000\n",
       "..        ...        ...        ...      ...      ...      ...\n",
       "196    posted   0.000391   1.811967  Topic10  -5.5413  -0.3275\n",
       "191  personal   0.000391   1.928749  Topic10  -5.5413  -0.3900\n",
       "71       Just   0.000391   1.891259  Topic10  -5.5413  -0.3704\n",
       "93     anyone   0.000391   1.977767  Topic10  -5.5413  -0.4151\n",
       "160         k   0.000391   1.817532  Topic10  -5.5413  -0.3306\n",
       "\n",
       "[630 rows x 6 columns], token_table=      Topic      Freq        Term\n",
       "term                             \n",
       "0         1  0.986584         ...\n",
       "2         1  0.944216           1\n",
       "5         1  1.017155          13\n",
       "8         1  0.932178          16\n",
       "9         1  1.054640          18\n",
       "...     ...       ...         ...\n",
       "245       1  1.244417     weekend\n",
       "247       1  0.778250      wit...\n",
       "248       1  1.098290        work\n",
       "249       1  0.987238  workrel...\n",
       "250       1  1.141479       would\n",
       "\n",
       "[124 rows x 3 columns], R=30, lambda_step=0.01, plot_opts={'xlab': 'PC1', 'ylab': 'PC2'}, topic_order=[8, 9, 4, 5, 3, 7, 10, 2, 1, 6])"
      ]
     },
     "execution_count": 87,
     "metadata": {},
     "output_type": "execute_result"
    }
   ],
   "source": [
    "\n",
    "# Visualize the topics\n",
    "pyLDAvis.enable_notebook()\n",
    "\n",
    "gensimvis.prepare(lda_model, corpus, id2word)\n",
    "#works"
   ]
  },
  {
   "cell_type": "code",
   "execution_count": 19,
   "metadata": {},
   "outputs": [],
   "source": [
    "from pprint import pprint"
   ]
  },
  {
   "cell_type": "code",
   "execution_count": 97,
   "metadata": {},
   "outputs": [],
   "source": [
    "commonwords = [' Hey ', ' Hi ', 'Hi ', 'Hi,' 'Hello', ' hey ', ' hi ', 'hello', 'Id', 'month', 'also', ' lot ', 'like', ' the ', 'would', 'could', \n",
    "               'really', ' get ', ' I ', 'I ', '\\.\\.\\.', ' So ', 'Im', 'Ive', ' How ', 'Any', 'What', 'All ', 'Just', 'week', ' A ', 'going',\n",
    "               ' ts '] \n",
    "trial2 = text2.str.replace(\"|\".join(commonwords),'')"
   ]
  },
  {
   "cell_type": "code",
   "execution_count": 61,
   "metadata": {},
   "outputs": [],
   "source": [
    "# test2 = trial2.apply(lambda text: remove_stops(text, stop_words))"
   ]
  },
  {
   "cell_type": "code",
   "execution_count": 98,
   "metadata": {},
   "outputs": [
    {
     "name": "stdout",
     "output_type": "stream",
     "text": [
      "[(0, 1), (1, 1), (2, 4), (3, 1), (4, 1), (5, 2), (6, 1), (7, 1), (8, 1), (9, 1), (10, 6), (11, 1), (12, 1), (13, 1), (14, 1), (15, 1), (16, 12), (17, 1), (18, 1), (19, 1), (20, 1), (21, 1), (22, 1), (23, 1), (24, 2), (25, 1), (26, 2), (27, 1), (28, 2), (29, 1)]\n"
     ]
    }
   ],
   "source": [
    "# test2 = clean_docs(trial2, stop_words)\n",
    "test2 = trial2.apply(lambda text: remove_stops(text, stop_words)) # NEED TO USE THIS LAMDBA\n",
    "id2word2 = corpora.Dictionary(test2)\n",
    "# Create Corpus\n",
    "texts2 = test2\n",
    "# Term Document Frequency\n",
    "corpus2 = [id2word2.doc2bow(text) for text in texts2]\n",
    "# View\n",
    "print(corpus2[:1][0][:30])"
   ]
  },
  {
   "cell_type": "code",
   "execution_count": 88,
   "metadata": {},
   "outputs": [
    {
     "data": {
      "text/plain": [
       "0     [Made, throwaway, account, post, Polymath, FIR...\n",
       "1     [Hello, happy, Monday, isstart, keeping, motiv...\n",
       "3     [mostly, want, vent, love, hear, anyone, simil...\n",
       "4     [First, sure, wealthy, evencorrect, wordwant, ...\n",
       "5     [Hello, recent, triumphs, youre, proud, Feel, ...\n",
       "6     [Am, struggling, work, exhaustion, due, multip...\n",
       "7     [got, new, job, k, base, salary, OTE, yearis, ...\n",
       "8     [A, little, bit, context, F, make, decent, liv...\n",
       "9     [allstarted, mildly, churning, credit, cards, ...\n",
       "10    [Were, getting, workrelated, matters, youd, to...\n",
       "12    [work, super, lax, fully, remote, company, lai...\n",
       "13    [Hello, day, thankful, todaygenerally, Feel, f...\n",
       "14    [Happy, Friday, sorts, things, looking, forwar...\n",
       "15    [Hey, conducting, research, onimpact, covid, w...\n",
       "16    [Hope, end, well, fun, plans, Feel, free, disc...\n",
       "18    [Hellomoved, new, city, year, ago, pay, nice, ...\n",
       "20    [TLDRneed, help, deciding, keeping, inherited,...\n",
       "21                    [Hello, goals, goals, last, turn]\n",
       "23    [generally, see, safe, assumption, overall, ra...\n",
       "24    [Hello, allam, finally, ready, start, investin...\n",
       "25    [Does, anyone, experience, investing, Merrill,...\n",
       "26    [Hello, understand, two, camps, paying, mortga...\n",
       "27    [super, handsoff, investments, far, prefer, ge...\n",
       "29    [Soposted, inpersonal, finance, sub, realizeds...\n",
       "31    [grew, bit, poverty, mindset, sojust, sock, aw...\n",
       "33    [use, career, perspective, job, decent, partic...\n",
       "34    [Hello, allin, quest, financially, savvy, FIRE...\n",
       "35    [followedfatfire, groups, awesome, seespecific...\n",
       "37    [Innext, swill, negotiating, permanent, jobcur...\n",
       "38    [single, living, mom, To, prefacehope, isnt, o...\n",
       "40    [For, successfully, loaned, money, close, frie...\n",
       "41    [thrive, planning, busy, One, thing, husband, ...\n",
       "43    [thinkmay, suffering, budgeting, burnout, perh...\n",
       "44    [company, many, years, absolutely, lovedcompan...\n",
       "45    [Hello, passionate, personal, finance, helping...\n",
       "46    [folks, femmes, There, recently, thread, froml...\n",
       "49    [Wondering, anyone, recommendationslearningsti...\n",
       "51    [This, thread, place, introduce, share, intere...\n",
       "52                                                [nan]\n",
       "55    [company, literally, terminated, branch, yeste...\n",
       "56    [Hey, ladies, struggling, recently, feeling, e...\n",
       "58    [great, interview, k, job, andhave, written, o...\n",
       "59    [allposted, rAskWomenOver, recommendedpost, he...\n",
       "61    [All, love, tips, better, communicatorknow, st...\n",
       "62    [A, Youtuber, made, video, today, debt, payoff...\n",
       "63    [idk, start, look, dont, aof, money, left, bud...\n",
       "65    [grew, thinking, passion, job, doesnt, pay, ma...\n",
       "Name: selftext, dtype: object"
      ]
     },
     "execution_count": 88,
     "metadata": {},
     "output_type": "execute_result"
    }
   ],
   "source": [
    "test2"
   ]
  },
  {
   "cell_type": "code",
   "execution_count": 99,
   "metadata": {},
   "outputs": [
    {
     "name": "stdout",
     "output_type": "stream",
     "text": [
      "[(0,\n",
      "  '0.006*\"job\" + 0.006*\"years\" + 0.005*\"My\" + 0.005*\"k\" + 0.004*\"much\" + '\n",
      "  '0.004*\"work\" + 0.004*\"time\" + 0.003*\"year\" + 0.003*\"good\" + 0.003*\"income\"'),\n",
      " (1,\n",
      "  '0.006*\"job\" + 0.004*\"My\" + 0.004*\"k\" + 0.004*\"time\" + 0.004*\"help\" + '\n",
      "  '0.004*\"year\" + 0.004*\"work\" + 0.003*\"start\" + 0.003*\"much\" + 0.003*\"The\"'),\n",
      " (2,\n",
      "  '0.005*\"year\" + 0.004*\"years\" + 0.004*\"time\" + 0.004*\"income\" + 0.004*\"free\" '\n",
      "  '+ 0.004*\"much\" + 0.003*\"work\" + 0.003*\"job\" + 0.003*\"getting\" + '\n",
      "  '0.003*\"make\"'),\n",
      " (3,\n",
      "  '0.006*\"work\" + 0.006*\"k\" + 0.005*\"job\" + 0.005*\"My\" + 0.004*\"year\" + '\n",
      "  '0.003*\"much\" + 0.003*\"time\" + 0.003*\"make\" + 0.003*\"The\" + 0.003*\"pay\"'),\n",
      " (4,\n",
      "  '0.006*\"much\" + 0.005*\"job\" + 0.005*\"k\" + 0.004*\"years\" + 0.004*\"My\" + '\n",
      "  '0.003*\"make\" + 0.003*\"The\" + 0.003*\"time\" + 0.003*\"year\" + 0.003*\"work\"')]\n"
     ]
    }
   ],
   "source": [
    "# number of topics\n",
    "num_topics2 = 5\n",
    "# Build LDA model\n",
    "lda_model2 = gensim.models.LdaMulticore(corpus=corpus2,\n",
    "                                       id2word=id2word2,\n",
    "                                       num_topics=num_topics2)\n",
    "# Print the Keyword in the 10 topics\n",
    "pprint(lda_model2.print_topics())\n",
    "doc_lda2 = lda_model2[corpus2]\n",
    "\n",
    "#works"
   ]
  },
  {
   "cell_type": "code",
   "execution_count": 40,
   "metadata": {},
   "outputs": [],
   "source": [
    "doc_lda2 = lda_model2[corpus2]"
   ]
  },
  {
   "cell_type": "code",
   "execution_count": 100,
   "metadata": {
    "scrolled": true
   },
   "outputs": [
    {
     "data": {
      "text/html": [
       "\n",
       "<link rel=\"stylesheet\" type=\"text/css\" href=\"https://cdn.jsdelivr.net/gh/bmabey/pyLDAvis@3.3.1/pyLDAvis/js/ldavis.v1.0.0.css\">\n",
       "\n",
       "\n",
       "<div id=\"ldavis_el1470020481827778006234751010\"></div>\n",
       "<script type=\"text/javascript\">\n",
       "\n",
       "var ldavis_el1470020481827778006234751010_data = {\"mdsDat\": {\"x\": [-0.0004938422603225916, -0.003836011709606546, -0.007670923634042321, 0.024986272970139285, -0.012985495366167814], \"y\": [0.00027786874849779973, -0.017068082495159627, 0.015109961775096594, 0.001906419671018343, -0.00022616769945312657], \"topics\": [1, 2, 3, 4, 5], \"cluster\": [1, 1, 1, 1, 1], \"Freq\": [31.671491656808204, 19.457421749197774, 16.901505990083717, 16.474880473975574, 15.494700129934728]}, \"tinfo\": {\"Term\": [\"free\", \"matters\", \"work\", \"year\", \"thread\", \"The\", \"story\", \"Feel\", \"job\", \"discuss\", \"k\", \"goals\", \"comes\", \"share\", \"B\", \"Company\", \"company\", \"books\", \"Hello\", \"My\", \"trying\", \"aof\", \"anyone\", \"x\", \"earn\", \"offer\", \"day\", \"class\", \"getting\", \"current\", \"Hope\", \"camp\", \"camps\", \"may\", \"breaks\", \"withinnext\", \"nd\", \"downpayment\", \"reasoningknow\", \"streamline\", \"please\", \"superficial\", \"understandnuance\", \"general\", \"thatinterest\", \"overall\", \"assumption\", \"example\", \"yield\", \"tax\", \"interested\", \"sites\", \"projectionsSome\", \"zero\", \"VTis\", \"defaulting\", \"dividend\", \"infirst\", \"andindividual\", \"return\", \"level\", \"safe\", \"mortgage\", \"fun\", \"retirement\", \"years\", \"property\", \"see\", \"plans\", \"two\", \"My\", \"job\", \"way\", \"k\", \"much\", \"us\", \"one\", \"good\", \"making\", \"income\", \"time\", \"FIRE\", \"work\", \"high\", \"well\", \"start\", \"go\", \"new\", \"help\", \"dont\", \"another\", \"debt\", \"life\", \"make\", \"year\", \"even\", \"put\", \"pay\", \"company\", \"people\", \"nan\", \"communication\", \"novice\", \"Does\", \"suggested\", \"communicatorknow\", \"productproject\", \"fog\", \"All\", \"words\", \"customer\", \"attempt\", \"graduated\", \"Bank\", \"born\", \"courses\", \"keycanimprove\", \"investingrecently\", \"Lynch\", \"Also\", \"daughter\", \"jumble\", \"Merrill\", \"forward\", \"meetingspanic\", \"complete\", \"lease\", \"tomy\", \"America\", \"Are\", \"point\", \"read\", \"little\", \"much\", \"life\", \"love\", \"away\", \"books\", \"The\", \"anyone\", \"screwed\", \"job\", \"k\", \"It\", \"make\", \"years\", \"financially\", \"K\", \"car\", \"My\", \"things\", \"savings\", \"put\", \"time\", \"good\", \"year\", \"FIRE\", \"need\", \"work\", \"making\", \"investments\", \"go\", \"getting\", \"started\", \"feel\", \"income\", \"even\", \"dont\", \"pay\", \"help\", \"thankful\", \"todaygenerally\", \"idk\", \"daunting\", \"u\", \"resources\", \"obviously\", \"begin\", \"guideline\", \"ive\", \"accessible\", \"articles\", \"id\", \"atbeginning\", \"added\", \"day\", \"x\", \"ifonly\", \"eating\", \"sugar\", \"Spend\", \"random\", \"B\", \"budget\", \"basishave\", \"Here\", \"certification\", \"google\", \"certifications\", \"number\", \"related\", \"coach\", \"contractor\", \"start\", \"help\", \"No\", \"aof\", \"job\", \"per\", \"feel\", \"current\", \"time\", \"company\", \"The\", \"My\", \"k\", \"husband\", \"people\", \"year\", \"working\", \"work\", \"think\", \"pay\", \"position\", \"role\", \"much\", \"finance\", \"years\", \"dont\", \"one\", \"income\", \"make\", \"put\", \"good\", \"something\", \"FIRE\", \"story\", \"youd\", \"tofeed\", \"Were\", \"workrelated\", \"original\", \"Youtuber\", \"takemake\", \"middle\", \"kyear\", \"httpswwwyoutubecomwatchvlVKnJhEUAhttpswwwyoutubecomwatchvlVKnJhEUA\", \"hearing\", \"payoff\", \"videos\", \"push\", \"ASAPd\", \"earners\", \"video\", \"sodont\", \"YouTube\", \"aboutlast\", \"loveadvice\", \"encourage\", \"introduce\", \"standalone\", \"goals\", \"capacity\", \"threadsSobit\", \"gotten\", \"Monday\", \"handsoff\", \"old\", \"class\", \"comes\", \"matters\", \"free\", \"share\", \"thread\", \"year\", \"getting\", \"far\", \"income\", \"debt\", \"looking\", \"Feel\", \"discuss\", \"years\", \"fund\", \"started\", \"bit\", \"happy\", \"working\", \"way\", \"trying\", \"time\", \"appreciated\", \"make\", \"anyone\", \"work\", \"loans\", \"much\", \"This\", \"something\", \"good\", \"job\", \"go\", \"things\", \"back\", \"My\", \"k\", \"think\", \"well\", \"even\", \"Company\", \"rollover\", \"fill\", \"burdens\", \"ira\", \"httpsleedsubseuqualtricscomjfeformSV_lGwhvSfPpLca\", \"contractor\", \"survey\", \"drive\", \"Hey\", \"chores\", \"leavingworkplace\", \"thru\", \"khave\", \"min\", \"mindset\", \"conducting\", \"morale\", \"lucky\", \"childcare\", \"unpaid\", \"B\", \"mthe\", \"reputation\", \"toxic\", \"terminated\", \"happens\", \"critical\", \"officially\", \"incan\", \"sleep\", \"toto\", \"offer\", \"Would\", \"work\", \"apartment\", \"Is\", \"able\", \"take\", \"stay\", \"k\", \"new\", \"My\", \"investments\", \"ly\", \"company\", \"pay\", \"even\", \"The\", \"job\", \"trying\", \"people\", \"year\", \"current\", \"make\", \"go\", \"good\", \"time\", \"aof\", \"Step\", \"much\", \"This\", \"Its\", \"income\", \"years\", \"one\", \"something\", \"back\", \"right\", \"FIRE\"], \"Freq\": [9.0, 5.0, 20.0, 19.0, 6.0, 13.0, 2.0, 4.0, 28.0, 4.0, 24.0, 3.0, 2.0, 5.0, 3.0, 3.0, 11.0, 6.0, 6.0, 23.0, 9.0, 9.0, 9.0, 3.0, 4.0, 7.0, 3.0, 3.0, 10.0, 10.0, 1.2302440464501727, 1.1696082586067373, 1.1679069954527375, 1.1677978277468366, 1.1638236650664242, 1.1636706709092495, 1.1606921655173255, 1.1593850416080784, 1.1561874039597844, 1.1555234332229831, 1.1550792919815496, 1.145161067241529, 1.1391841353434657, 1.1318355351260971, 1.11280937696677, 2.1345465913415906, 1.5373786217115413, 1.0015134984344314, 0.9677820717891098, 1.4286529653352809, 0.9643441855033774, 0.9639250452602842, 0.9476301714654672, 0.9486507301467251, 0.9437805157489014, 0.9373630284099632, 0.918965680220847, 1.3836042540985873, 0.9163174669026153, 0.9175055621544251, 2.6329810366691397, 2.5592621566702745, 1.7325438851745176, 2.0947452011948196, 4.054195756773082, 9.460686150854603, 1.6733313613362055, 3.5307421848911993, 2.885832567804811, 3.119540505812855, 8.447811441771954, 9.616371252137533, 4.196542078399626, 8.275027649735614, 7.389830549038101, 3.70003938351755, 4.579450595802326, 5.3147903179695, 4.0398987715229335, 5.255383164845303, 6.172487914181714, 4.422781789899438, 6.396951459138075, 3.6484377213652532, 4.000823107567031, 4.178240550769886, 4.6266261847982335, 3.7174432657407417, 4.465806217115127, 3.6967571807394117, 2.9483788901070795, 3.9104402155269367, 3.81613127029726, 4.708685636896826, 5.367700398903469, 4.053846340429743, 3.7297349916339626, 3.9998756593749443, 3.865689026131051, 3.72397818804798, 0.8407646244877345, 1.1755681173398724, 0.7401164634437712, 0.7347335766258536, 0.7145556755276948, 0.6924131180375658, 0.6895926189900763, 0.6937857339825071, 0.6881900797605254, 0.6812612789567376, 0.6910038475987981, 0.6756448191789945, 0.6901189995508353, 0.6926022038237487, 0.672367454604113, 0.6760278861762454, 0.6713572836790944, 0.6876596604742362, 0.6827988095274922, 0.6627832529570821, 0.6592688886249557, 0.6602099116734738, 0.6648257466047238, 0.9042992232367121, 0.6025976755647402, 0.9099836070347344, 1.1528397610694427, 0.8899507940916047, 0.880534444325318, 0.8025036357925173, 1.6271519708235507, 1.5793171832591832, 1.3285740101922605, 6.018058895438412, 3.1024510437407518, 2.6864593768834246, 1.9894830497321225, 1.921256247423689, 3.3626553597116584, 2.58788289845798, 1.0703229687504663, 5.608041605110732, 4.813402530588769, 2.4741342744577164, 3.4478443197041093, 4.285895043021225, 2.2242913700271445, 2.2876802686929825, 1.6671533442581945, 4.2302668614255685, 2.3141583980396954, 1.964847435926499, 2.3980652462547662, 3.305672124507836, 2.7926090776059556, 3.281569500086566, 2.415931833686286, 1.9292393391692713, 3.2158307974759306, 2.167100813579442, 2.0013100290974024, 2.4197446353579637, 2.198272921077132, 2.068020106390843, 2.164521903750027, 2.3604519834646447, 2.154456175872746, 2.0083847747555743, 2.0330710562087573, 2.015850664862057, 0.6761556444256251, 0.6759150137392737, 0.6461487267493374, 0.642287420155868, 0.6420001197671492, 0.6418849869934277, 0.6405781821725853, 0.6392039242170003, 0.6356772787238776, 0.6346570301279351, 0.6335928758666675, 0.6316500767533144, 0.6298234203502945, 0.6272042294799669, 1.1686598441072242, 1.3915110748027217, 1.3758799137831939, 0.8111769403755964, 0.7711250868512919, 1.0171696712956884, 0.7435895372181297, 0.7009663850807105, 1.0982444058190644, 1.3290685013629417, 0.45964819766945025, 0.4523469406677795, 0.6850782217708116, 0.6341986783699476, 0.45650734796195586, 0.4442636472241057, 1.0856820700802567, 0.8603783943644616, 0.8004067637313391, 3.068063469587823, 3.4238566962136976, 1.9294656112794972, 2.5045500951995643, 5.71662691109051, 1.7726671053283136, 2.5756944951030603, 2.5132242812928576, 3.665086328130489, 2.653832759196393, 2.792965879174067, 4.0135055291641, 4.010355802645336, 2.330246304805088, 2.461152374835612, 3.4075480271914667, 2.239516151038419, 3.230314357532202, 2.1073186378544606, 2.417145928467662, 1.6629566281198418, 1.6956071346088109, 3.0587120944191777, 1.4267250130301468, 2.7795196894364405, 1.8854221693388278, 2.0311798356338473, 2.177254728334024, 2.141358179266279, 1.8687586404840182, 1.8848008988590228, 1.7493292774893985, 1.7608617968117326, 1.363073291872839, 0.655475409992128, 0.6553587274801267, 0.6551598179936376, 0.6550035504731243, 0.6503950057517772, 0.6494925297331094, 0.648685389337036, 0.6482893320005625, 0.6482307834932083, 0.6481216138427701, 0.6479099583980429, 0.6478113067537931, 0.6474876837653559, 0.6467025638255882, 0.6464850535301256, 0.6464797686206123, 0.6463937074960855, 0.6463485267010299, 0.6450661071386206, 0.6445565796861243, 0.644347307631962, 0.5969600628545324, 0.5956344831977637, 0.5954075429657184, 1.4766364637531906, 0.5850975135105212, 0.5822020048512474, 0.5816636176477811, 0.5718153442081061, 0.9106147793183886, 0.8375018903507674, 1.336681179142739, 1.0980629550836989, 2.052567042648556, 3.1521001352080664, 1.94224030790393, 2.040233721855147, 4.478444756722364, 2.7649475603875255, 1.3532360027548977, 3.168086261106314, 2.5724226590933883, 1.45908952791199, 1.5147699874112008, 1.5107365651957219, 3.9722059687029567, 1.6362690208671196, 2.2535177477178543, 1.8612267900908308, 1.3048723450384514, 2.295786661257249, 2.2054186463541074, 2.0956593658152713, 3.2125377386490594, 1.1432132841903315, 2.71440890334213, 2.0130224481504726, 3.051276704025271, 2.0900687605555253, 3.1379653856503302, 1.9348783253261101, 1.9891226365714783, 2.3241311853626754, 2.9062316370507246, 2.163745373204574, 1.9225959883656536, 1.8871502038850672, 2.4474728906022607, 2.4253871501201543, 1.8995662179685096, 1.9146812664281396, 1.9103294025080602, 1.0595467169483475, 0.6336586140659776, 0.4144571650253949, 0.40930652796675, 0.611644449093791, 0.3912742303196013, 0.7722965989553543, 0.3882878237345466, 0.8290129599968308, 0.5690166741292426, 0.38073461674278253, 0.3800548303063832, 0.3898341064088552, 0.3912537149009831, 0.8226501589521334, 0.776847367122811, 0.3725456510598009, 0.4079170103796025, 0.594089585683963, 0.36561221925021203, 0.3651692860019216, 0.9006021223927246, 0.37500979161388004, 0.39597072618154205, 0.3986833908091435, 0.3701867677603901, 0.3786954523544266, 0.3907329351414276, 0.36785568504606647, 0.3830142890850344, 0.5740621513936403, 0.5724499611096378, 1.9381380854836203, 1.0588716086121557, 4.798856397976386, 0.9309184533268716, 1.362971317678489, 1.4686689959892174, 2.0211010739297897, 1.7130452514546648, 4.64328227715983, 2.1673757162964025, 4.429537539630009, 1.9151487315390163, 1.3753145825363435, 2.387752440553693, 2.5007308996144157, 2.3853229471792754, 2.527194912488125, 4.474569322068886, 1.846869714881598, 2.1534609021500977, 3.1910606043563203, 2.0272149610592805, 2.5916881765526405, 2.2154845191467487, 2.320115298228909, 2.6794407599279007, 1.7783653697308526, 1.5974411111920734, 2.809832862248438, 1.6861904222927893, 1.5445045089276084, 2.10617076683606, 2.470271204400994, 1.8319303967898557, 1.7039022944408309, 1.6534916713675627, 1.662825650806535, 1.6660533450288537], \"Total\": [9.0, 5.0, 20.0, 19.0, 6.0, 13.0, 2.0, 4.0, 28.0, 4.0, 24.0, 3.0, 2.0, 5.0, 3.0, 3.0, 11.0, 6.0, 6.0, 23.0, 9.0, 9.0, 9.0, 3.0, 4.0, 7.0, 3.0, 3.0, 10.0, 10.0, 1.704251106832099, 1.6862514605709709, 1.6856593479507895, 1.6856907426149754, 1.684490226662447, 1.6843939828378975, 1.6835684808187246, 1.6830874128268607, 1.6820793466592603, 1.681953552152247, 1.6817649169733364, 1.678788553697962, 1.6769939497968456, 1.6747803321447214, 1.6690110105507812, 3.291572486177816, 2.441396034635562, 1.6103176607307896, 1.5977347988615442, 2.362338032263562, 1.595449847732955, 1.5983975888861313, 1.5887957440395701, 1.5938822568272495, 1.5893350588025275, 1.5858419544666718, 1.5761915594545446, 2.374635752757578, 1.57740061800815, 1.5797873506024667, 4.618490126690098, 4.646761946112957, 3.129964515432239, 3.856387155153533, 8.085898678728569, 22.96857805641622, 3.067986842173414, 7.412991005127491, 5.992950738793548, 6.595833493296875, 23.56859426259389, 28.321840727458387, 9.870849336143456, 24.167455410249705, 22.41439978679446, 8.704217519484935, 11.859530992589724, 14.636446778026064, 10.06045037924075, 15.067346904586346, 19.035224865396998, 11.9548237716794, 20.693229716147865, 9.0759375384439, 10.46914070823439, 11.19667132622157, 13.129020291507143, 9.793866075833346, 13.028853770470475, 9.894260614450229, 6.978148164377586, 11.017962543317935, 10.730769658792278, 15.603985215761984, 19.726323287260186, 12.248724120214208, 10.544547710210644, 12.759676051473566, 11.995356987086236, 11.465504240177403, 1.3949531284786312, 2.173329908601139, 1.4359204981089568, 1.4381685401716466, 1.446929637377362, 1.4081991437375727, 1.410985615507845, 1.4264091411639, 1.4173858159373611, 1.416974173510355, 1.4514418065619288, 1.419291980187218, 1.4512206619548809, 1.4590014742939394, 1.417741904371211, 1.4319030749181965, 1.4253303418708065, 1.4608446929492989, 1.457965199569919, 1.4238784215461984, 1.4234495420287778, 1.4265830868422482, 1.4644715847252459, 2.021604198082084, 1.4302049980418252, 2.1723398866210135, 2.7550340308098935, 2.1484082519434553, 2.1604171884007766, 2.0284325883477337, 4.115291256506018, 4.157953859579601, 3.494804063164076, 22.41439978679446, 10.730769658792278, 8.980009169595462, 6.188062964743279, 6.0431743241543945, 13.260766780416347, 9.24844966265837, 2.7338770732431805, 28.321840727458387, 24.167455410249705, 9.434127307706108, 15.603985215761984, 22.96857805641622, 8.51824822376895, 8.959293931332946, 5.510526344732918, 23.56859426259389, 9.755207985358988, 7.5690682072295665, 10.544547710210644, 19.035224865396998, 14.636446778026064, 19.726323287260186, 11.9548237716794, 7.9837388482790885, 20.693229716147865, 10.06045037924075, 8.583653384611065, 13.129020291507143, 10.709896236526394, 9.459977813324652, 10.936213956949402, 15.067346904586346, 12.248724120214208, 9.894260614450229, 12.759676051473566, 13.028853770470475, 1.2434061224167328, 1.243389098327691, 1.2516068288242115, 1.2526116706132908, 1.2527120018408664, 1.2527495931782184, 1.2530733610594398, 1.2534090001519695, 1.2543685290776123, 1.2545838503038411, 1.2549450374719426, 1.2554904072068998, 1.25594105592262, 1.256662554587077, 2.527563519981146, 3.168115559195109, 3.1465346267487715, 1.9464391442102738, 1.9238025867373425, 2.5657302979631225, 1.929621910591764, 1.9253627410345302, 3.016793813079915, 3.7814344463090412, 1.3163185076871642, 1.298966692082192, 1.9721476961152862, 1.831106320982407, 1.330797786440493, 1.297025775633725, 3.2271009927388383, 2.6136546902411872, 2.4204868452497452, 11.19667132622157, 13.028853770470475, 6.690351871456394, 9.809230608548322, 28.321840727458387, 6.527890199221801, 10.936213956949402, 10.668309305337683, 19.035224865396998, 11.995356987086236, 13.260766780416347, 23.56859426259389, 24.167455410249705, 10.220402280533069, 11.465504240177403, 19.726323287260186, 10.501847722813308, 20.693229716147865, 9.987892074996212, 12.759676051473566, 6.887830683866237, 7.326324108084851, 22.41439978679446, 5.330736405719486, 22.96857805641622, 9.894260614450229, 11.859530992589724, 15.067346904586346, 15.603985215761984, 10.544547710210644, 14.636446778026064, 10.119945043566029, 11.9548237716794, 2.465288794742011, 1.22548993943253, 1.2254644697891064, 1.2255266681070083, 1.2255213850608582, 1.2255111622240378, 1.2255399074221602, 1.2255191633542744, 1.2255634783672649, 1.22553965778383, 1.2255408265254242, 1.2255389312370129, 1.2255200035916245, 1.2255634430845657, 1.2255856860247791, 1.225565827444751, 1.22557146885282, 1.2256228323115101, 1.2255849212045347, 1.2256054624761352, 1.2256523542297741, 1.2256444980271723, 1.2438361768039174, 1.244254726634631, 1.2443118476507582, 3.1213830600575068, 1.2475042939869259, 1.2484111769516957, 1.248585149230274, 1.2282812942589136, 2.0282477342765906, 1.8595460737698308, 3.112162226132847, 2.5656435751496636, 5.353189302779382, 9.149548965725266, 5.359397793340544, 6.011274506715383, 19.726323287260186, 10.709896236526394, 3.8637771763348376, 15.067346904586346, 11.017962543317935, 4.46531689435867, 4.808782687294587, 4.809856063438393, 22.96857805641622, 5.554991078694599, 9.459977813324652, 7.292967201638993, 4.0021223179477845, 10.501847722813308, 9.870849336143456, 9.102227120019132, 19.035224865396998, 3.2359805528613217, 15.603985215761984, 9.24844966265837, 20.693229716147865, 10.151326512932858, 22.41439978679446, 9.280095781931783, 10.119945043566029, 14.636446778026064, 28.321840727458387, 13.129020291507143, 9.755207985358988, 9.387007316233587, 23.56859426259389, 24.167455410249705, 9.987892074996212, 10.46914070823439, 12.248724120214208, 3.0115964325796813, 1.8315331929047134, 1.2179674471007025, 1.2181442754219798, 1.837258126959921, 1.2186012321043846, 2.4204868452497452, 1.2186989838785878, 2.6322922088232996, 1.821082620325786, 1.2188564688391943, 1.2189402031809817, 1.2509460492045847, 1.2556849985178737, 2.656987483823625, 2.5308558971505444, 1.2191429868060013, 1.3416270198204683, 1.9673291391277847, 1.2192324255795626, 1.2192198395105334, 3.016793813079915, 1.2587640756329277, 1.3319531432524352, 1.3422700119824635, 1.2522553909103051, 1.2849099009480964, 1.3312342331110927, 1.2601412685471867, 1.3152310919793684, 1.9738563927695907, 2.014130979199035, 7.494790762234837, 3.930993555284528, 20.693229716147865, 3.427623931934205, 5.262432023101368, 5.939037446101907, 8.733230578605426, 7.299680805091732, 24.167455410249705, 9.793866075833346, 23.56859426259389, 8.583653384611065, 5.880479341572565, 11.995356987086236, 12.759676051473566, 12.248724120214208, 13.260766780416347, 28.321840727458387, 9.102227120019132, 11.465504240177403, 19.726323287260186, 10.668309305337683, 15.603985215761984, 13.129020291507143, 14.636446778026064, 19.035224865396998, 9.809230608548322, 8.313047735697383, 22.41439978679446, 9.280095781931783, 7.99523155378149, 15.067346904586346, 22.96857805641622, 11.859530992589724, 10.119945043566029, 9.387007316233587, 9.586121435398862, 11.9548237716794], \"Category\": [\"Default\", \"Default\", \"Default\", \"Default\", \"Default\", \"Default\", \"Default\", \"Default\", \"Default\", \"Default\", \"Default\", \"Default\", \"Default\", \"Default\", \"Default\", \"Default\", \"Default\", \"Default\", \"Default\", \"Default\", \"Default\", \"Default\", \"Default\", \"Default\", \"Default\", \"Default\", \"Default\", \"Default\", \"Default\", \"Default\", \"Topic1\", \"Topic1\", \"Topic1\", \"Topic1\", \"Topic1\", \"Topic1\", \"Topic1\", \"Topic1\", \"Topic1\", \"Topic1\", \"Topic1\", \"Topic1\", \"Topic1\", \"Topic1\", \"Topic1\", \"Topic1\", \"Topic1\", \"Topic1\", \"Topic1\", \"Topic1\", \"Topic1\", \"Topic1\", \"Topic1\", \"Topic1\", \"Topic1\", \"Topic1\", \"Topic1\", \"Topic1\", \"Topic1\", \"Topic1\", \"Topic1\", \"Topic1\", \"Topic1\", \"Topic1\", \"Topic1\", \"Topic1\", \"Topic1\", \"Topic1\", \"Topic1\", \"Topic1\", \"Topic1\", \"Topic1\", \"Topic1\", \"Topic1\", \"Topic1\", \"Topic1\", \"Topic1\", \"Topic1\", \"Topic1\", \"Topic1\", \"Topic1\", \"Topic1\", \"Topic1\", \"Topic1\", \"Topic1\", \"Topic1\", \"Topic1\", \"Topic1\", \"Topic1\", \"Topic1\", \"Topic1\", \"Topic1\", \"Topic1\", \"Topic1\", \"Topic1\", \"Topic1\", \"Topic1\", \"Topic1\", \"Topic1\", \"Topic1\", \"Topic2\", \"Topic2\", \"Topic2\", \"Topic2\", \"Topic2\", \"Topic2\", \"Topic2\", \"Topic2\", \"Topic2\", \"Topic2\", \"Topic2\", \"Topic2\", \"Topic2\", \"Topic2\", \"Topic2\", \"Topic2\", \"Topic2\", \"Topic2\", \"Topic2\", \"Topic2\", \"Topic2\", \"Topic2\", \"Topic2\", \"Topic2\", \"Topic2\", \"Topic2\", \"Topic2\", \"Topic2\", \"Topic2\", \"Topic2\", \"Topic2\", \"Topic2\", \"Topic2\", \"Topic2\", \"Topic2\", \"Topic2\", \"Topic2\", \"Topic2\", \"Topic2\", \"Topic2\", \"Topic2\", \"Topic2\", \"Topic2\", \"Topic2\", \"Topic2\", \"Topic2\", \"Topic2\", \"Topic2\", \"Topic2\", \"Topic2\", \"Topic2\", \"Topic2\", \"Topic2\", \"Topic2\", \"Topic2\", \"Topic2\", \"Topic2\", \"Topic2\", \"Topic2\", \"Topic2\", \"Topic2\", \"Topic2\", \"Topic2\", \"Topic2\", \"Topic2\", \"Topic2\", \"Topic2\", \"Topic2\", \"Topic2\", \"Topic2\", \"Topic3\", \"Topic3\", \"Topic3\", \"Topic3\", \"Topic3\", \"Topic3\", \"Topic3\", \"Topic3\", \"Topic3\", \"Topic3\", \"Topic3\", \"Topic3\", \"Topic3\", \"Topic3\", \"Topic3\", \"Topic3\", \"Topic3\", \"Topic3\", \"Topic3\", \"Topic3\", \"Topic3\", \"Topic3\", \"Topic3\", \"Topic3\", \"Topic3\", \"Topic3\", \"Topic3\", \"Topic3\", \"Topic3\", \"Topic3\", \"Topic3\", \"Topic3\", \"Topic3\", \"Topic3\", \"Topic3\", \"Topic3\", \"Topic3\", \"Topic3\", \"Topic3\", \"Topic3\", \"Topic3\", \"Topic3\", \"Topic3\", \"Topic3\", \"Topic3\", \"Topic3\", \"Topic3\", \"Topic3\", \"Topic3\", \"Topic3\", \"Topic3\", \"Topic3\", \"Topic3\", \"Topic3\", \"Topic3\", \"Topic3\", \"Topic3\", \"Topic3\", \"Topic3\", \"Topic3\", \"Topic3\", \"Topic3\", \"Topic3\", \"Topic3\", \"Topic3\", \"Topic3\", \"Topic4\", \"Topic4\", \"Topic4\", \"Topic4\", \"Topic4\", \"Topic4\", \"Topic4\", \"Topic4\", \"Topic4\", \"Topic4\", \"Topic4\", \"Topic4\", \"Topic4\", \"Topic4\", \"Topic4\", \"Topic4\", \"Topic4\", \"Topic4\", \"Topic4\", \"Topic4\", \"Topic4\", \"Topic4\", \"Topic4\", \"Topic4\", \"Topic4\", \"Topic4\", \"Topic4\", \"Topic4\", \"Topic4\", \"Topic4\", \"Topic4\", \"Topic4\", \"Topic4\", \"Topic4\", \"Topic4\", \"Topic4\", \"Topic4\", \"Topic4\", \"Topic4\", \"Topic4\", \"Topic4\", \"Topic4\", \"Topic4\", \"Topic4\", \"Topic4\", \"Topic4\", \"Topic4\", \"Topic4\", \"Topic4\", \"Topic4\", \"Topic4\", \"Topic4\", \"Topic4\", \"Topic4\", \"Topic4\", \"Topic4\", \"Topic4\", \"Topic4\", \"Topic4\", \"Topic4\", \"Topic4\", \"Topic4\", \"Topic4\", \"Topic4\", \"Topic4\", \"Topic4\", \"Topic4\", \"Topic4\", \"Topic4\", \"Topic4\", \"Topic4\", \"Topic4\", \"Topic4\", \"Topic5\", \"Topic5\", \"Topic5\", \"Topic5\", \"Topic5\", \"Topic5\", \"Topic5\", \"Topic5\", \"Topic5\", \"Topic5\", \"Topic5\", \"Topic5\", \"Topic5\", \"Topic5\", \"Topic5\", \"Topic5\", \"Topic5\", \"Topic5\", \"Topic5\", \"Topic5\", \"Topic5\", \"Topic5\", \"Topic5\", \"Topic5\", \"Topic5\", \"Topic5\", \"Topic5\", \"Topic5\", \"Topic5\", \"Topic5\", \"Topic5\", \"Topic5\", \"Topic5\", \"Topic5\", \"Topic5\", \"Topic5\", \"Topic5\", \"Topic5\", \"Topic5\", \"Topic5\", \"Topic5\", \"Topic5\", \"Topic5\", \"Topic5\", \"Topic5\", \"Topic5\", \"Topic5\", \"Topic5\", \"Topic5\", \"Topic5\", \"Topic5\", \"Topic5\", \"Topic5\", \"Topic5\", \"Topic5\", \"Topic5\", \"Topic5\", \"Topic5\", \"Topic5\", \"Topic5\", \"Topic5\", \"Topic5\", \"Topic5\", \"Topic5\", \"Topic5\", \"Topic5\", \"Topic5\", \"Topic5\", \"Topic5\", \"Topic5\"], \"logprob\": [30.0, 29.0, 28.0, 27.0, 26.0, 25.0, 24.0, 23.0, 22.0, 21.0, 20.0, 19.0, 18.0, 17.0, 16.0, 15.0, 14.0, 13.0, 12.0, 11.0, 10.0, 9.0, 8.0, 7.0, 6.0, 5.0, 4.0, 3.0, 2.0, 1.0, -7.2377, -7.2883, -7.2897, -7.2898, -7.2932, -7.2934, -7.2959, -7.2971, -7.2998, -7.3004, -7.3008, -7.3094, -7.3146, -7.3211, -7.3381, -6.6867, -7.0149, -7.4434, -7.4777, -7.0882, -7.4813, -7.4817, -7.4987, -7.4977, -7.5028, -7.5096, -7.5295, -7.1203, -7.5323, -7.5311, -6.4768, -6.5052, -6.8954, -6.7055, -6.0452, -5.1978, -6.9301, -6.1834, -6.3851, -6.3073, -5.311, -5.1815, -6.0107, -5.3317, -5.4449, -6.1366, -5.9234, -5.7745, -6.0487, -5.7857, -5.6249, -5.9582, -5.5891, -6.1507, -6.0585, -6.0151, -5.9131, -6.1319, -5.9485, -6.1375, -6.3637, -6.0813, -6.1057, -5.8955, -5.7646, -6.0453, -6.1286, -6.0587, -6.0928, -6.1302, -7.1312, -6.796, -7.2587, -7.266, -7.2939, -7.3253, -7.3294, -7.3234, -7.3315, -7.3416, -7.3274, -7.3499, -7.3287, -7.3251, -7.3547, -7.3493, -7.3562, -7.3322, -7.3393, -7.3691, -7.3744, -7.373, -7.366, -7.0584, -7.4643, -7.0521, -6.8155, -7.0744, -7.085, -7.1778, -6.4709, -6.5008, -6.6737, -5.163, -5.8256, -5.9695, -6.2699, -6.3048, -5.745, -6.0069, -6.8898, -5.2336, -5.3864, -6.0519, -5.72, -5.5024, -6.1583, -6.1302, -6.4467, -5.5155, -6.1187, -6.2824, -6.0831, -5.7621, -5.9308, -5.7694, -6.0757, -6.3006, -5.7897, -6.1844, -6.264, -6.0741, -6.1701, -6.2312, -6.1856, -6.0989, -6.1902, -6.2604, -6.2482, -6.2567, -7.2083, -7.2086, -7.2537, -7.2597, -7.2601, -7.2603, -7.2623, -7.2645, -7.27, -7.2716, -7.2733, -7.2764, -7.2793, -7.2834, -6.6611, -6.4866, -6.4978, -7.0262, -7.0768, -6.7999, -7.1132, -7.1722, -6.7232, -6.5325, -7.5942, -7.6102, -7.1952, -7.2723, -7.6011, -7.6283, -6.7347, -6.9673, -7.0396, -5.6959, -5.5862, -6.1597, -5.8988, -5.0736, -6.2445, -5.8708, -5.8954, -5.5181, -5.8409, -5.7898, -5.4273, -5.4281, -5.971, -5.9163, -5.5909, -6.0107, -5.6444, -6.0715, -5.9344, -6.3083, -6.2889, -5.6989, -6.4616, -5.7947, -6.1828, -6.1083, -6.0389, -6.0555, -6.1917, -6.1831, -6.2577, -6.2511, -6.4816, -7.2138, -7.2139, -7.2143, -7.2145, -7.2216, -7.2229, -7.2242, -7.2248, -7.2249, -7.2251, -7.2254, -7.2255, -7.226, -7.2272, -7.2276, -7.2276, -7.2277, -7.2278, -7.2298, -7.2306, -7.2309, -7.3073, -7.3095, -7.3099, -6.4016, -7.3274, -7.3323, -7.3332, -7.3503, -6.885, -6.9687, -6.5012, -6.6978, -6.0723, -5.6433, -6.1275, -6.0783, -5.2921, -5.7744, -6.4889, -5.6382, -5.8465, -6.4136, -6.3761, -6.3788, -5.4121, -6.299, -5.9789, -6.1701, -6.5253, -5.9603, -6.0005, -6.0515, -5.6243, -6.6575, -5.7928, -6.0917, -5.6758, -6.0542, -5.6478, -6.1313, -6.1037, -5.948, -5.7245, -6.0195, -6.1377, -6.1563, -5.8963, -5.9054, -6.1498, -6.1418, -6.1441, -6.6722, -7.1863, -7.6108, -7.6233, -7.2216, -7.6684, -6.9884, -7.676, -6.9176, -7.2939, -7.6957, -7.6975, -7.6721, -7.6684, -6.9253, -6.9825, -7.7174, -7.6267, -7.2508, -7.7362, -7.7374, -6.8347, -7.7108, -7.6565, -7.6496, -7.7238, -7.7011, -7.6698, -7.7301, -7.6897, -7.2851, -7.2879, -6.0683, -6.6728, -5.1617, -6.8016, -6.4204, -6.3457, -6.0264, -6.1918, -5.1946, -5.9565, -5.2417, -6.0802, -6.4114, -5.8597, -5.8135, -5.8607, -5.8029, -5.2316, -6.1165, -5.963, -5.5697, -6.0234, -5.7777, -5.9346, -5.8884, -5.7444, -6.1543, -6.2616, -5.6969, -6.2076, -6.2953, -5.9852, -5.8257, -6.1247, -6.1971, -6.2271, -6.2215, -6.2196], \"loglift\": [30.0, 29.0, 28.0, 27.0, 26.0, 25.0, 24.0, 23.0, 22.0, 21.0, 20.0, 19.0, 18.0, 17.0, 16.0, 15.0, 14.0, 13.0, 12.0, 11.0, 10.0, 9.0, 8.0, 7.0, 6.0, 5.0, 4.0, 3.0, 2.0, 1.0, 0.8238, 0.7839, 0.7828, 0.7827, 0.78, 0.7799, 0.7779, 0.777, 0.7749, 0.7744, 0.7741, 0.7672, 0.7631, 0.7579, 0.7444, 0.7166, 0.6873, 0.6748, 0.6484, 0.6468, 0.6463, 0.644, 0.633, 0.6309, 0.6286, 0.624, 0.6102, 0.6096, 0.6066, 0.6064, 0.5878, 0.5533, 0.5583, 0.5395, 0.4594, 0.2628, 0.5435, 0.408, 0.419, 0.401, 0.1237, 0.0696, 0.2944, 0.078, 0.0402, 0.2943, 0.1982, 0.1367, 0.2374, 0.0965, 0.0236, 0.1554, -0.0242, 0.2384, 0.1878, 0.164, 0.1068, 0.181, 0.079, 0.1653, 0.2882, 0.1139, 0.1159, -0.0484, -0.1518, 0.044, 0.1105, -0.0103, 0.0174, 0.0252, 1.1306, 1.0224, 0.9742, 0.9653, 0.9314, 0.9271, 0.921, 0.9162, 0.9144, 0.9046, 0.8948, 0.8947, 0.8936, 0.8919, 0.8909, 0.8864, 0.8841, 0.8835, 0.8783, 0.8722, 0.8672, 0.8665, 0.8472, 0.8325, 0.7726, 0.7668, 0.7657, 0.7556, 0.7394, 0.7097, 0.7091, 0.6689, 0.6698, 0.322, 0.396, 0.4302, 0.5022, 0.491, 0.2649, 0.3633, 0.6992, 0.0175, 0.0233, 0.2985, 0.1272, -0.0419, 0.2942, 0.2718, 0.4414, -0.0807, 0.1982, 0.2883, 0.156, -0.1137, -0.0196, -0.1567, 0.0379, 0.2167, -0.2248, 0.1017, 0.1809, -0.0542, 0.0534, 0.1165, 0.0171, -0.2167, -0.1009, 0.0423, -0.1998, -0.2292, 1.1686, 1.1682, 1.1166, 1.1098, 1.1093, 1.1091, 1.1068, 1.1044, 1.0981, 1.0963, 1.0943, 1.0908, 1.0876, 1.0828, 1.0064, 0.955, 0.9506, 0.9025, 0.8636, 0.8525, 0.8242, 0.7674, 0.7673, 0.7321, 0.7256, 0.7229, 0.7204, 0.7175, 0.7078, 0.7064, 0.6884, 0.6666, 0.6712, 0.4832, 0.4414, 0.5343, 0.4126, 0.1775, 0.4742, 0.3318, 0.3321, 0.1303, 0.2693, 0.2201, 0.0075, -0.0184, 0.2994, 0.2391, 0.0218, 0.2325, -0.0795, 0.2218, 0.1141, 0.3566, 0.3143, -0.2139, 0.4597, -0.3341, 0.12, 0.0133, -0.1567, -0.2083, 0.0474, -0.2719, 0.0225, -0.1376, 1.2108, 1.1776, 1.1774, 1.1771, 1.1769, 1.1698, 1.1684, 1.1672, 1.1665, 1.1664, 1.1663, 1.1659, 1.1658, 1.1653, 1.164, 1.1637, 1.1637, 1.1635, 1.1635, 1.1615, 1.1607, 1.1603, 1.0692, 1.0667, 1.0662, 1.0548, 1.0462, 1.0405, 1.0395, 1.0388, 1.0025, 1.0057, 0.9582, 0.9547, 0.8447, 0.7377, 0.7883, 0.7228, 0.3207, 0.4492, 0.7542, 0.2439, 0.3487, 0.6848, 0.6482, 0.6453, 0.0485, 0.5811, 0.3688, 0.4377, 0.6826, 0.2829, 0.3047, 0.3347, 0.0241, 0.7628, 0.0544, 0.2785, -0.1109, 0.2229, -0.1628, 0.2355, 0.1765, -0.0368, -0.4734, 0.0003, 0.1792, 0.1991, -0.4615, -0.4957, 0.1436, 0.1045, -0.0548, 0.82, 0.8033, 0.7867, 0.7741, 0.7648, 0.7286, 0.7223, 0.7209, 0.7093, 0.7014, 0.7011, 0.6993, 0.6987, 0.6986, 0.6923, 0.6836, 0.6791, 0.6741, 0.6673, 0.6603, 0.6591, 0.6558, 0.6537, 0.6516, 0.6507, 0.646, 0.643, 0.6388, 0.6334, 0.631, 0.6297, 0.6067, 0.5122, 0.553, 0.4032, 0.5612, 0.5137, 0.4675, 0.4012, 0.4151, 0.2151, 0.3564, 0.1931, 0.3646, 0.4117, 0.2505, 0.235, 0.2286, 0.207, 0.0194, 0.2696, 0.1924, 0.0431, 0.2041, 0.0695, 0.0853, 0.0228, -0.096, 0.157, 0.2152, -0.2119, 0.1593, 0.2205, -0.103, -0.3651, -0.0031, 0.0831, 0.1282, 0.1129, -0.106]}, \"token.table\": {\"Topic\": [4, 2, 2, 1, 2, 2, 3, 5, 2, 3, 5, 2, 1, 2, 3, 4, 5, 1, 3, 4, 1, 2, 3, 4, 4, 5, 1, 1, 2, 3, 4, 5, 1, 2, 3, 4, 5, 1, 2, 3, 4, 5, 1, 2, 3, 4, 5, 2, 2, 4, 1, 2, 3, 4, 5, 1, 2, 3, 4, 5, 3, 1, 2, 3, 4, 5, 1, 2, 3, 4, 5, 1, 2, 3, 4, 5, 1, 4, 1, 2, 3, 5, 4, 4, 1, 2, 3, 4, 5, 4, 3, 1, 3, 1, 1, 3, 4, 5, 1, 2, 3, 4, 5, 1, 2, 3, 4, 5, 1, 2, 5, 1, 2, 4, 3, 1, 3, 2, 1, 2, 3, 4, 5, 1, 2, 3, 4, 5, 3, 1, 2, 3, 4, 5, 1, 2, 3, 4, 2, 1, 1, 2, 3, 5, 1, 1, 4, 1, 2, 3, 4, 5, 1, 3, 1, 4, 1, 3, 2, 4, 1, 2, 2, 1, 2, 3, 4, 5, 1, 2, 3, 5, 2, 1, 2, 3, 4, 5, 2, 2, 3, 1, 3, 1, 2, 3, 4, 5, 1, 1, 3, 4, 1, 1, 2, 3, 4, 5, 1, 1, 2, 5, 1, 3, 4, 5, 4, 3, 4, 1, 2, 3, 4, 5, 1, 1, 2, 3, 4, 1, 2, 3, 4, 5, 1, 2, 3, 4, 5, 1, 2, 3, 4, 5, 2, 2, 4, 1, 2, 3, 4, 5, 1, 2, 1, 2, 3, 4, 5, 1, 1, 2, 3, 4, 5, 1, 2, 3, 4, 5, 1, 4, 1, 2, 3, 4, 5, 3, 4, 4, 2, 3, 1, 4, 1, 2, 4, 4, 1, 2, 3, 4, 5, 1, 2, 3, 4, 5, 4, 1, 2, 3, 4, 5, 3, 3, 3, 1, 2, 3, 4, 5, 1, 1, 4, 2, 1, 2, 3, 4, 5, 5, 3, 1, 2, 3, 4, 5, 2, 1, 2, 3, 4, 5, 2, 4, 1, 2, 1, 3, 1, 2, 3, 4, 5, 1, 2, 4, 1, 2, 3, 4, 5, 1, 2, 4, 5, 1, 2, 3, 4, 5, 4, 5, 1, 2, 3, 4, 5, 1, 2, 3, 4, 5, 1, 2, 3, 4, 5, 1, 3, 4, 1, 2, 4, 1, 5, 2, 5, 1, 2, 1, 2, 3, 4, 5, 2, 1, 1, 2, 3, 4, 5, 1, 2, 3, 4, 5, 2, 3, 1, 2, 3, 5, 4, 1, 2, 3, 4, 5, 4, 1, 1, 2, 3, 4, 5, 4, 1, 2, 3, 4, 5, 1, 2, 3, 4, 5, 1, 2, 3, 4, 5, 1, 1, 2, 4, 5, 1, 2, 3, 4, 5, 2, 1, 1, 4, 1, 2, 3, 4, 5, 3, 1, 2, 3, 4, 1, 1, 3, 3, 1, 2, 3, 4, 5, 1, 1, 2, 3, 4, 5, 1, 2, 3, 4, 5, 5, 1, 2, 3, 5, 1, 2, 3, 4, 5, 1, 2, 1, 2, 3, 4, 5, 1, 2, 3, 4, 1, 1, 5, 4, 1, 2, 3, 4, 5, 4, 1, 2, 3, 4, 5, 1, 2, 3, 4, 5, 1, 2, 3, 4, 5, 1, 4, 1, 1, 3, 2, 1, 1, 2, 3, 4, 5, 4, 1, 3, 1, 1, 2, 3, 4, 5, 1, 2, 3, 4, 5, 1, 2, 3, 4, 4, 1, 2, 3, 4, 5, 3, 4, 1, 2, 1, 5, 1, 2, 3, 4, 5, 1, 2, 3, 4, 5, 3, 1, 1, 2, 3, 4, 5, 4, 4, 1, 2, 3, 4, 5, 1, 2, 3, 4, 5, 1, 2, 1, 2, 3, 4, 5, 1, 2, 3, 4, 5, 4, 1, 3, 4, 1, 2, 3, 4, 5, 1, 2, 3, 4, 5, 1, 4, 1], \"Freq\": [0.8159496435087086, 0.7055242043174172, 0.7023071526809809, 0.46287356227721843, 0.46287356227721843, 0.49299148798164066, 0.33147774158919957, 0.33147774158919957, 0.6854002669763812, 0.3320498022849022, 0.3320498022849022, 0.6953287963597432, 0.33459297070324645, 0.16729648535162323, 0.16729648535162323, 0.16729648535162323, 0.16729648535162323, 0.4159056730270331, 0.20795283651351654, 0.4159056730270331, 0.3195350324413043, 0.15976751622065216, 0.15976751622065216, 0.15976751622065216, 0.5491239051093152, 0.5491239051093152, 0.5867679921058246, 0.19002620758047506, 0.19002620758047506, 0.19002620758047506, 0.19002620758047506, 0.19002620758047506, 0.3179944368091684, 0.21199629120611227, 0.10599814560305613, 0.21199629120611227, 0.10599814560305613, 0.25014910281792446, 0.12507455140896223, 0.12507455140896223, 0.12507455140896223, 0.25014910281792446, 0.3348478153516352, 0.22323187690109014, 0.22323187690109014, 0.11161593845054507, 0.11161593845054507, 0.6858874274193837, 0.6828401523322237, 0.8141457536429815, 0.33943475418459446, 0.16971737709229723, 0.16971737709229723, 0.08485868854614861, 0.16971737709229723, 0.29893793905411264, 0.14946896952705632, 0.29893793905411264, 0.14946896952705632, 0.14946896952705632, 0.518236238151611, 0.3608784762678052, 0.12029282542260174, 0.12029282542260174, 0.12029282542260174, 0.24058565084520347, 0.22623126171183663, 0.22623126171183663, 0.22623126171183663, 0.07541042057061222, 0.22623126171183663, 0.3232725254669201, 0.21551501697794673, 0.10775750848897336, 0.21551501697794673, 0.21551501697794673, 0.6291939477843285, 0.8159757156036721, 0.2543886134475281, 0.2543886134475281, 0.2543886134475281, 0.2543886134475281, 0.8159232563957929, 0.8159669007461633, 0.33675490652322826, 0.16837745326161413, 0.16837745326161413, 0.16837745326161413, 0.16837745326161413, 0.8158920403073195, 0.7968476468216302, 0.39563793040004763, 0.39563793040004763, 0.6339543604735886, 0.42991348554542824, 0.1433044951818094, 0.1433044951818094, 0.1433044951818094, 0.21625246100167678, 0.3243786915025152, 0.10812623050083839, 0.21625246100167678, 0.10812623050083839, 0.30583438393074674, 0.10194479464358225, 0.30583438393074674, 0.2038895892871645, 0.2038895892871645, 0.291747291960265, 0.291747291960265, 0.291747291960265, 0.3090253429105991, 0.3090253429105991, 0.3090253429105991, 0.7965015059133017, 0.8192034277218562, 0.7957585720604103, 0.7045766579108624, 0.32320291687319197, 0.32320291687319197, 0.16160145843659598, 0.16160145843659598, 0.16160145843659598, 0.3195906745286005, 0.10653022484286682, 0.21306044968573365, 0.21306044968573365, 0.21306044968573365, 0.7978241738161725, 0.2742368016615415, 0.13711840083077076, 0.2742368016615415, 0.2742368016615415, 0.13711840083077076, 0.16547594796380913, 0.33095189592761826, 0.16547594796380913, 0.16547594796380913, 0.7053470006894622, 0.5936514110748764, 0.26444991026515713, 0.26444991026515713, 0.26444991026515713, 0.26444991026515713, 0.5930313618002124, 0.5932396727818542, 0.8016004472450179, 0.36294173639359223, 0.36294173639359223, 0.18147086819679611, 0.18147086819679611, 0.18147086819679611, 0.5070614142996432, 0.5070614142996432, 0.321320010763897, 0.321320010763897, 0.382606012850045, 0.382606012850045, 0.3897657530008494, 0.3897657530008494, 0.460123424447625, 0.460123424447625, 0.7101268342955026, 0.3334623558353665, 0.08336558895884162, 0.2500967668765249, 0.16673117791768324, 0.16673117791768324, 0.4603331210547625, 0.4603331210547625, 0.4131400267522711, 0.4131400267522711, 0.6983712916861564, 0.2812066949070372, 0.0937355649690124, 0.2812066949070372, 0.0937355649690124, 0.1874711299380248, 0.6889700954451135, 0.7025187549498562, 0.7983320157877742, 0.31564505186611935, 0.31564505186611935, 0.36304352862643197, 0.18152176431321598, 0.09076088215660799, 0.272282646469824, 0.09076088215660799, 0.6305798614946507, 0.4158128587678093, 0.20790642938390466, 0.4158128587678093, 0.6344406515830214, 0.4042747766475988, 0.2021373883237994, 0.2021373883237994, 0.1010686941618997, 0.1010686941618997, 0.5941462055856216, 0.37989703295403704, 0.37989703295403704, 0.37989703295403704, 0.23030439742621903, 0.23030439742621903, 0.23030439742621903, 0.23030439742621903, 0.8159458876241927, 0.5198038545607436, 0.8039643955119046, 0.3265646250778687, 0.16328231253893435, 0.16328231253893435, 0.16328231253893435, 0.16328231253893435, 0.6209954870309147, 0.25881409676646927, 0.25881409676646927, 0.25881409676646927, 0.25881409676646927, 0.2743179688884611, 0.18287864592564074, 0.2743179688884611, 0.18287864592564074, 0.09143932296282037, 0.18759134271337707, 0.18759134271337707, 0.18759134271337707, 0.18759134271337707, 0.18759134271337707, 0.3521850879654963, 0.23479005864366417, 0.11739502932183209, 0.11739502932183209, 0.11739502932183209, 0.7010611269527024, 0.4946566696629884, 0.4946566696629884, 0.3278850150142014, 0.10929500500473381, 0.21859001000946762, 0.3278850150142014, 0.10929500500473381, 0.518620127993963, 0.2593100639969815, 0.36003658181751613, 0.18001829090875807, 0.18001829090875807, 0.36003658181751613, 0.18001829090875807, 0.5970932311579044, 0.28011475870031477, 0.18674317246687652, 0.09337158623343826, 0.28011475870031477, 0.09337158623343826, 0.38083572795103254, 0.152334291180413, 0.152334291180413, 0.152334291180413, 0.152334291180413, 0.3203708038261656, 0.3203708038261656, 0.34161296630453925, 0.20496777978272354, 0.1366451865218157, 0.1366451865218157, 0.1366451865218157, 0.546117933481596, 0.546117933481596, 0.8009065305770124, 0.689075084317598, 0.7972138783929316, 0.49303641912198026, 0.49303641912198026, 0.2498674254695898, 0.2498674254695898, 0.2498674254695898, 0.815967550692688, 0.30701089063305675, 0.15350544531652838, 0.23025816797479257, 0.15350544531652838, 0.15350544531652838, 0.4407258184685362, 0.11018145461713405, 0.2203629092342681, 0.2203629092342681, 0.11018145461713405, 0.8159662888058464, 0.2935305203899986, 0.1956870135933324, 0.1956870135933324, 0.0978435067966662, 0.0978435067966662, 0.7962157103506704, 0.7989729497876128, 0.5137586772103931, 0.3318434248353339, 0.13273736993413357, 0.13273736993413357, 0.19910605490120034, 0.13273736993413357, 0.42111721717267014, 0.6267824723045629, 0.8036939531704466, 0.6845354641916797, 0.23300102070589634, 0.23300102070589634, 0.11650051035294817, 0.11650051035294817, 0.23300102070589634, 0.5442893327431799, 0.7970770544813048, 0.35308439505151484, 0.21185063703090892, 0.21185063703090892, 0.10592531851545446, 0.14123375802060595, 0.700975645388806, 0.3310236789185139, 0.2068897993240712, 0.16551183945925696, 0.08275591972962848, 0.2068897993240712, 0.7015917437689971, 0.8159670669558925, 0.3629719229660591, 0.3629719229660591, 0.6495629345753283, 0.21652097819177613, 0.3727598417623839, 0.27956988132178795, 0.09318996044059598, 0.09318996044059598, 0.09318996044059598, 0.28613907444488723, 0.28613907444488723, 0.28613907444488723, 0.2955278796498152, 0.19701858643321013, 0.19701858643321013, 0.19701858643321013, 0.09850929321660506, 0.2239482714571425, 0.2239482714571425, 0.2239482714571425, 0.2239482714571425, 0.33407538270199183, 0.33407538270199183, 0.11135846090066395, 0.2227169218013279, 0.11135846090066395, 0.8158972700563865, 0.5083033540810309, 0.17005416428052253, 0.17005416428052253, 0.17005416428052253, 0.17005416428052253, 0.17005416428052253, 0.3204309624024363, 0.19225857744146177, 0.12817238496097452, 0.19225857744146177, 0.19225857744146177, 0.3975965139944237, 0.19879825699721185, 0.09939912849860592, 0.09939912849860592, 0.19879825699721185, 0.37360905562625957, 0.18680452781312978, 0.37360905562625957, 0.5932286241595666, 0.6992004652264233, 0.8159512074659994, 0.37636609358841133, 0.37636609358841133, 0.39512324709039587, 0.39512324709039587, 0.6389848799048784, 0.3194924399524392, 0.31229923917588376, 0.2676850621507575, 0.13384253107537875, 0.13384253107537875, 0.13384253107537875, 0.7168699647210538, 0.593976432436949, 0.25050919600546606, 0.25050919600546606, 0.25050919600546606, 0.12525459800273303, 0.12525459800273303, 0.408418899036216, 0.204209449518108, 0.102104724759054, 0.102104724759054, 0.204209449518108, 0.6964173861414719, 0.7980378731812852, 0.266852012744333, 0.266852012744333, 0.1334260063721665, 0.266852012744333, 0.5377656483513282, 0.4216018325787239, 0.16864073303148955, 0.16864073303148955, 0.16864073303148955, 0.16864073303148955, 0.8159860398049874, 0.6076123215874872, 0.3134875825893758, 0.1567437912946879, 0.1567437912946879, 0.1567437912946879, 0.23511568694203186, 0.8159801529712332, 0.34887257605149247, 0.17443628802574623, 0.17443628802574623, 0.08721814401287312, 0.17443628802574623, 0.30637770228402783, 0.15318885114201392, 0.30637770228402783, 0.15318885114201392, 0.15318885114201392, 0.5005881294135142, 0.16686270980450474, 0.16686270980450474, 0.16686270980450474, 0.16686270980450474, 0.5946134265897846, 0.24299616665504842, 0.48599233331009684, 0.24299616665504842, 0.24299616665504842, 0.4355507760995161, 0.14518359203317202, 0.29036718406634404, 0.14518359203317202, 0.14518359203317202, 0.7087244469463126, 0.6294075268967326, 0.6518932781938419, 0.8159364224002383, 0.3793429656661958, 0.1896714828330979, 0.1896714828330979, 0.09483574141654895, 0.09483574141654895, 0.5193826486237513, 0.2405029093086442, 0.4810058186172884, 0.2405029093086442, 0.2405029093086442, 0.5945022759990944, 0.3098756445026224, 0.3098756445026224, 0.7982441227244831, 0.4946883653789442, 0.12367209134473604, 0.12367209134473604, 0.2473441826894721, 0.12367209134473604, 0.6329965862928582, 0.3129524302625502, 0.2086349535083668, 0.2086349535083668, 0.1043174767541834, 0.2086349535083668, 0.27298819578469524, 0.13649409789234762, 0.27298819578469524, 0.13649409789234762, 0.13649409789234762, 0.5459906508241075, 0.6456108651121062, 0.2152036217040354, 0.2152036217040354, 0.2152036217040354, 0.26423331713270964, 0.26423331713270964, 0.13211665856635482, 0.13211665856635482, 0.13211665856635482, 0.36578089402304637, 0.36578089402304637, 0.5395932623192501, 0.13489831557981252, 0.13489831557981252, 0.13489831557981252, 0.13489831557981252, 0.3731762554526464, 0.1865881277263232, 0.1865881277263232, 0.3731762554526464, 0.6256265693549162, 0.5066224694274051, 0.5066224694274051, 0.8159369315813512, 0.2964442975811726, 0.09881476586039085, 0.1976295317207817, 0.1976295317207817, 0.1976295317207817, 0.803657059030648, 0.3572490326327942, 0.1786245163163971, 0.26793677447459563, 0.08931225815819854, 0.08931225815819854, 0.3171254794883782, 0.21141698632558548, 0.10570849316279274, 0.21141698632558548, 0.10570849316279274, 0.27398458280599663, 0.13699229140299832, 0.27398458280599663, 0.13699229140299832, 0.27398458280599663, 0.40563199010712603, 0.40563199010712603, 0.5945467392487673, 0.3897525787468302, 0.3897525787468302, 0.6911186101713653, 0.5956676305644589, 0.34351549211918986, 0.2290103280794599, 0.11450516403972995, 0.11450516403972995, 0.2290103280794599, 0.8159807124214825, 0.42330944443281593, 0.8042424610684407, 0.5991572216590684, 0.30752804086827484, 0.20501869391218325, 0.10250934695609162, 0.20501869391218325, 0.10250934695609162, 0.30036367808881614, 0.10012122602960537, 0.20024245205921073, 0.20024245205921073, 0.20024245205921073, 0.33270814662776377, 0.16635407331388188, 0.16635407331388188, 0.33270814662776377, 0.801018140867456, 0.31520510224741516, 0.15760255112370758, 0.2101367348316101, 0.15760255112370758, 0.15760255112370758, 0.8042534725010541, 0.8160171303637166, 0.46546088207183045, 0.46546088207183045, 0.4964920406505404, 0.4964920406505404, 0.21972644426782842, 0.21972644426782842, 0.10986322213391421, 0.21972644426782842, 0.21972644426782842, 0.4548325853053749, 0.1516108617684583, 0.1516108617684583, 0.1516108617684583, 0.1516108617684583, 0.798268076405826, 0.5963050732062224, 0.45954733909690904, 0.22977366954845452, 0.11488683477422726, 0.11488683477422726, 0.11488683477422726, 0.8159116929259647, 0.8159512309563876, 0.40523361909227573, 0.10130840477306893, 0.10130840477306893, 0.20261680954613787, 0.10130840477306893, 0.3820752926602508, 0.1910376463301254, 0.1910376463301254, 0.1910376463301254, 0.0955188231650627, 0.5936853314538573, 0.7057291647896731, 0.28994990546680727, 0.14497495273340363, 0.14497495273340363, 0.14497495273340363, 0.24162492122233936, 0.2856640163885693, 0.19044267759237954, 0.19044267759237954, 0.19044267759237954, 0.09522133879618977, 0.8159792331574377, 0.3178099460590627, 0.3178099460590627, 0.3178099460590627, 0.2534684202012009, 0.15208105212072057, 0.15208105212072057, 0.20277473616096073, 0.15208105212072057, 0.3918396679974654, 0.17415096355442905, 0.1306132226658218, 0.17415096355442905, 0.08707548177721453, 0.6258860986895595, 0.816000170889249, 0.6273989158964478], \"Term\": [\"ASAPd\", \"All\", \"Also\", \"America\", \"America\", \"Are\", \"B\", \"B\", \"Bank\", \"Company\", \"Company\", \"Does\", \"FIRE\", \"FIRE\", \"FIRE\", \"FIRE\", \"FIRE\", \"Feel\", \"Feel\", \"Feel\", \"Hello\", \"Hello\", \"Hello\", \"Hello\", \"Hey\", \"Hey\", \"Hope\", \"Is\", \"Is\", \"Is\", \"Is\", \"Is\", \"It\", \"It\", \"It\", \"It\", \"It\", \"Its\", \"Its\", \"Its\", \"Its\", \"Its\", \"K\", \"K\", \"K\", \"K\", \"K\", \"Lynch\", \"Merrill\", \"Monday\", \"My\", \"My\", \"My\", \"My\", \"My\", \"No\", \"No\", \"No\", \"No\", \"No\", \"Spend\", \"Step\", \"Step\", \"Step\", \"Step\", \"Step\", \"The\", \"The\", \"The\", \"The\", \"The\", \"This\", \"This\", \"This\", \"This\", \"This\", \"VTis\", \"Were\", \"Would\", \"Would\", \"Would\", \"Would\", \"YouTube\", \"Youtuber\", \"able\", \"able\", \"able\", \"able\", \"able\", \"aboutlast\", \"accessible\", \"added\", \"added\", \"andindividual\", \"another\", \"another\", \"another\", \"another\", \"anyone\", \"anyone\", \"anyone\", \"anyone\", \"anyone\", \"aof\", \"aof\", \"aof\", \"aof\", \"aof\", \"apartment\", \"apartment\", \"apartment\", \"appreciated\", \"appreciated\", \"appreciated\", \"articles\", \"assumption\", \"atbeginning\", \"attempt\", \"away\", \"away\", \"away\", \"away\", \"away\", \"back\", \"back\", \"back\", \"back\", \"back\", \"begin\", \"bit\", \"bit\", \"bit\", \"bit\", \"bit\", \"books\", \"books\", \"books\", \"books\", \"born\", \"breaks\", \"budget\", \"budget\", \"budget\", \"budget\", \"camp\", \"camps\", \"capacity\", \"car\", \"car\", \"car\", \"car\", \"car\", \"certification\", \"certification\", \"class\", \"class\", \"coach\", \"coach\", \"comes\", \"comes\", \"communication\", \"communication\", \"communicatorknow\", \"company\", \"company\", \"company\", \"company\", \"company\", \"complete\", \"complete\", \"contractor\", \"contractor\", \"courses\", \"current\", \"current\", \"current\", \"current\", \"current\", \"customer\", \"daughter\", \"daunting\", \"day\", \"day\", \"debt\", \"debt\", \"debt\", \"debt\", \"debt\", \"defaulting\", \"discuss\", \"discuss\", \"discuss\", \"dividend\", \"dont\", \"dont\", \"dont\", \"dont\", \"dont\", \"downpayment\", \"drive\", \"drive\", \"drive\", \"earn\", \"earn\", \"earn\", \"earn\", \"earners\", \"eating\", \"encourage\", \"even\", \"even\", \"even\", \"even\", \"even\", \"example\", \"far\", \"far\", \"far\", \"far\", \"feel\", \"feel\", \"feel\", \"feel\", \"feel\", \"finance\", \"finance\", \"finance\", \"finance\", \"finance\", \"financially\", \"financially\", \"financially\", \"financially\", \"financially\", \"fog\", \"forward\", \"forward\", \"free\", \"free\", \"free\", \"free\", \"free\", \"fun\", \"fun\", \"fund\", \"fund\", \"fund\", \"fund\", \"fund\", \"general\", \"getting\", \"getting\", \"getting\", \"getting\", \"getting\", \"go\", \"go\", \"go\", \"go\", \"go\", \"goals\", \"goals\", \"good\", \"good\", \"good\", \"good\", \"good\", \"google\", \"google\", \"gotten\", \"graduated\", \"guideline\", \"handsoff\", \"handsoff\", \"happy\", \"happy\", \"happy\", \"hearing\", \"help\", \"help\", \"help\", \"help\", \"help\", \"high\", \"high\", \"high\", \"high\", \"high\", \"httpswwwyoutubecomwatchvlVKnJhEUAhttpswwwyoutubecomwatchvlVKnJhEUA\", \"husband\", \"husband\", \"husband\", \"husband\", \"husband\", \"id\", \"idk\", \"ifonly\", \"income\", \"income\", \"income\", \"income\", \"income\", \"infirst\", \"interested\", \"introduce\", \"investingrecently\", \"investments\", \"investments\", \"investments\", \"investments\", \"investments\", \"ira\", \"ive\", \"job\", \"job\", \"job\", \"job\", \"job\", \"jumble\", \"k\", \"k\", \"k\", \"k\", \"k\", \"keycanimprove\", \"kyear\", \"lease\", \"lease\", \"level\", \"level\", \"life\", \"life\", \"life\", \"life\", \"life\", \"little\", \"little\", \"little\", \"loans\", \"loans\", \"loans\", \"loans\", \"loans\", \"looking\", \"looking\", \"looking\", \"looking\", \"love\", \"love\", \"love\", \"love\", \"love\", \"loveadvice\", \"lucky\", \"ly\", \"ly\", \"ly\", \"ly\", \"ly\", \"make\", \"make\", \"make\", \"make\", \"make\", \"making\", \"making\", \"making\", \"making\", \"making\", \"matters\", \"matters\", \"matters\", \"may\", \"meetingspanic\", \"middle\", \"min\", \"min\", \"mindset\", \"mindset\", \"mortgage\", \"mortgage\", \"much\", \"much\", \"much\", \"much\", \"much\", \"nan\", \"nd\", \"need\", \"need\", \"need\", \"need\", \"need\", \"new\", \"new\", \"new\", \"new\", \"new\", \"novice\", \"obviously\", \"offer\", \"offer\", \"offer\", \"offer\", \"old\", \"one\", \"one\", \"one\", \"one\", \"one\", \"original\", \"overall\", \"pay\", \"pay\", \"pay\", \"pay\", \"pay\", \"payoff\", \"people\", \"people\", \"people\", \"people\", \"people\", \"per\", \"per\", \"per\", \"per\", \"per\", \"plans\", \"plans\", \"plans\", \"plans\", \"plans\", \"please\", \"point\", \"point\", \"point\", \"point\", \"position\", \"position\", \"position\", \"position\", \"position\", \"productproject\", \"projectionsSome\", \"property\", \"push\", \"put\", \"put\", \"put\", \"put\", \"put\", \"random\", \"read\", \"read\", \"read\", \"read\", \"reasoningknow\", \"related\", \"related\", \"resources\", \"retirement\", \"retirement\", \"retirement\", \"retirement\", \"retirement\", \"return\", \"right\", \"right\", \"right\", \"right\", \"right\", \"role\", \"role\", \"role\", \"role\", \"role\", \"rollover\", \"safe\", \"safe\", \"safe\", \"safe\", \"savings\", \"savings\", \"savings\", \"savings\", \"savings\", \"screwed\", \"screwed\", \"see\", \"see\", \"see\", \"see\", \"see\", \"share\", \"share\", \"share\", \"share\", \"sites\", \"sleep\", \"sleep\", \"sodont\", \"something\", \"something\", \"something\", \"something\", \"something\", \"standalone\", \"start\", \"start\", \"start\", \"start\", \"start\", \"started\", \"started\", \"started\", \"started\", \"started\", \"stay\", \"stay\", \"stay\", \"stay\", \"stay\", \"story\", \"story\", \"streamline\", \"sugar\", \"sugar\", \"suggested\", \"superficial\", \"take\", \"take\", \"take\", \"take\", \"take\", \"takemake\", \"tax\", \"thankful\", \"thatinterest\", \"things\", \"things\", \"things\", \"things\", \"things\", \"think\", \"think\", \"think\", \"think\", \"think\", \"thread\", \"thread\", \"thread\", \"thread\", \"threadsSobit\", \"time\", \"time\", \"time\", \"time\", \"time\", \"todaygenerally\", \"tofeed\", \"tomy\", \"tomy\", \"toto\", \"toto\", \"trying\", \"trying\", \"trying\", \"trying\", \"trying\", \"two\", \"two\", \"two\", \"two\", \"two\", \"u\", \"understandnuance\", \"us\", \"us\", \"us\", \"us\", \"us\", \"video\", \"videos\", \"way\", \"way\", \"way\", \"way\", \"way\", \"well\", \"well\", \"well\", \"well\", \"well\", \"withinnext\", \"words\", \"work\", \"work\", \"work\", \"work\", \"work\", \"working\", \"working\", \"working\", \"working\", \"working\", \"workrelated\", \"x\", \"x\", \"x\", \"year\", \"year\", \"year\", \"year\", \"year\", \"years\", \"years\", \"years\", \"years\", \"years\", \"yield\", \"youd\", \"zero\"]}, \"R\": 30, \"lambda.step\": 0.01, \"plot.opts\": {\"xlab\": \"PC1\", \"ylab\": \"PC2\"}, \"topic.order\": [1, 5, 2, 3, 4]};\n",
       "\n",
       "function LDAvis_load_lib(url, callback){\n",
       "  var s = document.createElement('script');\n",
       "  s.src = url;\n",
       "  s.async = true;\n",
       "  s.onreadystatechange = s.onload = callback;\n",
       "  s.onerror = function(){console.warn(\"failed to load library \" + url);};\n",
       "  document.getElementsByTagName(\"head\")[0].appendChild(s);\n",
       "}\n",
       "\n",
       "if(typeof(LDAvis) !== \"undefined\"){\n",
       "   // already loaded: just create the visualization\n",
       "   !function(LDAvis){\n",
       "       new LDAvis(\"#\" + \"ldavis_el1470020481827778006234751010\", ldavis_el1470020481827778006234751010_data);\n",
       "   }(LDAvis);\n",
       "}else if(typeof define === \"function\" && define.amd){\n",
       "   // require.js is available: use it to load d3/LDAvis\n",
       "   require.config({paths: {d3: \"https://d3js.org/d3.v5\"}});\n",
       "   require([\"d3\"], function(d3){\n",
       "      window.d3 = d3;\n",
       "      LDAvis_load_lib(\"https://cdn.jsdelivr.net/gh/bmabey/pyLDAvis@3.3.1/pyLDAvis/js/ldavis.v3.0.0.js\", function(){\n",
       "        new LDAvis(\"#\" + \"ldavis_el1470020481827778006234751010\", ldavis_el1470020481827778006234751010_data);\n",
       "      });\n",
       "    });\n",
       "}else{\n",
       "    // require.js not available: dynamically load d3 & LDAvis\n",
       "    LDAvis_load_lib(\"https://d3js.org/d3.v5.js\", function(){\n",
       "         LDAvis_load_lib(\"https://cdn.jsdelivr.net/gh/bmabey/pyLDAvis@3.3.1/pyLDAvis/js/ldavis.v3.0.0.js\", function(){\n",
       "                 new LDAvis(\"#\" + \"ldavis_el1470020481827778006234751010\", ldavis_el1470020481827778006234751010_data);\n",
       "            })\n",
       "         });\n",
       "}\n",
       "</script>"
      ],
      "text/plain": [
       "PreparedData(topic_coordinates=              x         y  topics  cluster       Freq\n",
       "topic                                                \n",
       "0     -0.000494  0.000278       1        1  31.671492\n",
       "4     -0.003836 -0.017068       2        1  19.457422\n",
       "1     -0.007671  0.015110       3        1  16.901506\n",
       "2      0.024986  0.001906       4        1  16.474880\n",
       "3     -0.012985 -0.000226       5        1  15.494700, topic_info=           Term       Freq      Total Category  logprob  loglift\n",
       "228        free   9.000000   9.000000  Default  30.0000  30.0000\n",
       "540     matters   5.000000   5.000000  Default  29.0000  29.0000\n",
       "520        work  20.000000  20.000000  Default  28.0000  28.0000\n",
       "527        year  19.000000  19.000000  Default  27.0000  27.0000\n",
       "541      thread   6.000000   6.000000  Default  26.0000  26.0000\n",
       "...         ...        ...        ...      ...      ...      ...\n",
       "358         one   1.831930  11.859531   Topic5  -6.1247  -0.0031\n",
       "425   something   1.703902  10.119945   Topic5  -6.1971   0.0831\n",
       "113        back   1.653492   9.387007   Topic5  -6.2271   0.1282\n",
       "1086      right   1.662826   9.586121   Topic5  -6.2215   0.1129\n",
       "16         FIRE   1.666053  11.954824   Topic5  -6.2196  -0.1060\n",
       "\n",
       "[379 rows x 6 columns], token_table=      Topic      Freq     Term\n",
       "term                          \n",
       "2476      4  0.815950    ASAPd\n",
       "2462      2  0.705524      All\n",
       "2463      2  0.702307     Also\n",
       "602       1  0.462874  America\n",
       "602       2  0.462874  America\n",
       "...     ...       ...      ...\n",
       "529       4  0.174151    years\n",
       "529       5  0.087075    years\n",
       "1382      1  0.625886    yield\n",
       "1222      4  0.816000     youd\n",
       "1383      1  0.627399     zero\n",
       "\n",
       "[623 rows x 3 columns], R=30, lambda_step=0.01, plot_opts={'xlab': 'PC1', 'ylab': 'PC2'}, topic_order=[1, 5, 2, 3, 4])"
      ]
     },
     "execution_count": 100,
     "metadata": {},
     "output_type": "execute_result"
    }
   ],
   "source": [
    "# Visualize the topics\n",
    "pyLDAvis.enable_notebook()\n",
    "\n",
    "gensimvis.prepare(lda_model2, corpus2, id2word2)\n",
    "#works"
   ]
  },
  {
   "cell_type": "code",
   "execution_count": null,
   "metadata": {},
   "outputs": [],
   "source": [
    "### TO DO \n",
    "\n",
    "# go back to preprocessing - need to preprocess much more finely. this includes using stems to remove, working on dealing with\n",
    "# numbers and ensuring meaning doesn't get fucked up due to removal of words. Stop words are a big issue here. Also need to \n",
    "# learn regex so that I can cope with it. \n",
    "\n",
    "# then want to add in bigrams and trigrams for common combinations of words - see digital humanities youtube\n",
    "\n",
    "# look into tf-tdf or whatever it is called modelling instead \n",
    "\n",
    "# when i am ok with this i need to add in more data from comments/make new notebook and trial on this bigger dataset. Can probably \n",
    "# triple the dataset size to start with "
   ]
  }
 ],
 "metadata": {
  "kernelspec": {
   "display_name": "Python 3",
   "language": "python",
   "name": "python3"
  },
  "language_info": {
   "codemirror_mode": {
    "name": "ipython",
    "version": 3
   },
   "file_extension": ".py",
   "mimetype": "text/x-python",
   "name": "python",
   "nbconvert_exporter": "python",
   "pygments_lexer": "ipython3",
   "version": "3.7.6"
  }
 },
 "nbformat": 4,
 "nbformat_minor": 4
}
